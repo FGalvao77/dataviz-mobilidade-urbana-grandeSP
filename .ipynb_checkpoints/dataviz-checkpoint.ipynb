{
 "cells": [
  {
   "cell_type": "markdown",
   "id": "da7af8ce-393b-4086-9e18-457faa1e28a7",
   "metadata": {},
   "source": [
    "<br>\n",
    "\n",
    "<font size=6 color='green'>**Visualização gráfica dos principais modais utilizados como transporte na Grande SP**</font>\n",
    "\n",
    "---\n",
    "---"
   ]
  },
  {
   "cell_type": "markdown",
   "id": "766fd0c0-e40f-43c1-ade7-57fc3f97ce99",
   "metadata": {},
   "source": [
    "> Atividade prática proposta da matéria: Visualização Computacional [Semana 6 - UNIVESP]"
   ]
  },
  {
   "cell_type": "code",
   "execution_count": 2,
   "id": "130f81d7-3f3c-4993-ae30-c35925d07a50",
   "metadata": {},
   "outputs": [
    {
     "data": {
      "text/plain": [
       "'/home/fernandogalvao/Documentos/dataviz-mobilidade-urbana-grandeSP'"
      ]
     },
     "execution_count": 2,
     "metadata": {},
     "output_type": "execute_result"
    }
   ],
   "source": [
    "%pwd"
   ]
  },
  {
   "cell_type": "code",
   "execution_count": 3,
   "id": "3f2fbcbe-1e5a-4e45-8d28-2eca1ef949ad",
   "metadata": {},
   "outputs": [
    {
     "name": "stdout",
     "output_type": "stream",
     "text": [
      "MODOPRIN,FE_VIA,CRITERIOBR\n",
      "A pe,22.132647,C1\n",
      "A pe,22.132647,C1\n",
      "Metro,18.882487,C1\n",
      "Metro,18.882487,C1\n",
      "Taxi,18.882487,C1\n",
      "A pe,22.132647,C2\n",
      "A pe,22.132647,C2\n",
      "A pe,22.132647,C2\n",
      "A pe,22.132647,C2\n"
     ]
    }
   ],
   "source": [
    "!head dataset.csv"
   ]
  },
  {
   "cell_type": "code",
   "execution_count": 1,
   "id": "2d5672f0-e3c2-4c7a-a14f-1410d0b8664f",
   "metadata": {},
   "outputs": [],
   "source": [
    "import pandas as pd\n",
    "import plotly.express as px"
   ]
  },
  {
   "cell_type": "code",
   "execution_count": 4,
   "id": "214e705a-0744-4e0b-b7fd-40e5a1503a52",
   "metadata": {},
   "outputs": [
    {
     "data": {
      "text/html": [
       "<div>\n",
       "<style scoped>\n",
       "    .dataframe tbody tr th:only-of-type {\n",
       "        vertical-align: middle;\n",
       "    }\n",
       "\n",
       "    .dataframe tbody tr th {\n",
       "        vertical-align: top;\n",
       "    }\n",
       "\n",
       "    .dataframe thead th {\n",
       "        text-align: right;\n",
       "    }\n",
       "</style>\n",
       "<table border=\"1\" class=\"dataframe\">\n",
       "  <thead>\n",
       "    <tr style=\"text-align: right;\">\n",
       "      <th></th>\n",
       "      <th>MODOPRIN</th>\n",
       "      <th>FE_VIA</th>\n",
       "      <th>CRITERIOBR</th>\n",
       "    </tr>\n",
       "  </thead>\n",
       "  <tbody>\n",
       "    <tr>\n",
       "      <th>0</th>\n",
       "      <td>A pe</td>\n",
       "      <td>22.132647</td>\n",
       "      <td>C1</td>\n",
       "    </tr>\n",
       "    <tr>\n",
       "      <th>1</th>\n",
       "      <td>A pe</td>\n",
       "      <td>22.132647</td>\n",
       "      <td>C1</td>\n",
       "    </tr>\n",
       "    <tr>\n",
       "      <th>2</th>\n",
       "      <td>Metro</td>\n",
       "      <td>18.882487</td>\n",
       "      <td>C1</td>\n",
       "    </tr>\n",
       "    <tr>\n",
       "      <th>3</th>\n",
       "      <td>Metro</td>\n",
       "      <td>18.882487</td>\n",
       "      <td>C1</td>\n",
       "    </tr>\n",
       "    <tr>\n",
       "      <th>4</th>\n",
       "      <td>Taxi</td>\n",
       "      <td>18.882487</td>\n",
       "      <td>C1</td>\n",
       "    </tr>\n",
       "  </tbody>\n",
       "</table>\n",
       "</div>"
      ],
      "text/plain": [
       "  MODOPRIN     FE_VIA CRITERIOBR\n",
       "0     A pe  22.132647         C1\n",
       "1     A pe  22.132647         C1\n",
       "2    Metro  18.882487         C1\n",
       "3    Metro  18.882487         C1\n",
       "4     Taxi  18.882487         C1"
      ]
     },
     "execution_count": 4,
     "metadata": {},
     "output_type": "execute_result"
    }
   ],
   "source": [
    "df = pd.read_csv(filepath_or_buffer='dataset.csv')\n",
    "df.head()"
   ]
  },
  {
   "cell_type": "code",
   "execution_count": 5,
   "id": "8bade80b-899e-462f-8742-cf760bd6aa49",
   "metadata": {},
   "outputs": [
    {
     "name": "stdout",
     "output_type": "stream",
     "text": [
      "<class 'pandas.core.frame.DataFrame'>\n",
      "RangeIndex: 183092 entries, 0 to 183091\n",
      "Data columns (total 3 columns):\n",
      " #   Column      Non-Null Count   Dtype  \n",
      "---  ------      --------------   -----  \n",
      " 0   MODOPRIN    183092 non-null  object \n",
      " 1   FE_VIA      183092 non-null  float64\n",
      " 2   CRITERIOBR  183092 non-null  object \n",
      "dtypes: float64(1), object(2)\n",
      "memory usage: 4.2+ MB\n"
     ]
    }
   ],
   "source": [
    "df.info()"
   ]
  },
  {
   "cell_type": "code",
   "execution_count": null,
   "id": "1eac6c60-b891-4130-9fe2-797730098a9a",
   "metadata": {},
   "outputs": [],
   "source": [
    "fig_sunburst = px.sunburst(data_frame=df, \n",
    "                           path=['MODOPRIN', 'C"
   ]
  }
 ],
 "metadata": {
  "kernelspec": {
   "display_name": "Python 3 (ipykernel)",
   "language": "python",
   "name": "python3"
  },
  "language_info": {
   "codemirror_mode": {
    "name": "ipython",
    "version": 3
   },
   "file_extension": ".py",
   "mimetype": "text/x-python",
   "name": "python",
   "nbconvert_exporter": "python",
   "pygments_lexer": "ipython3",
   "version": "3.9.13"
  },
  "widgets": {
   "application/vnd.jupyter.widget-state+json": {
    "state": {},
    "version_major": 2,
    "version_minor": 0
   }
  }
 },
 "nbformat": 4,
 "nbformat_minor": 5
}
