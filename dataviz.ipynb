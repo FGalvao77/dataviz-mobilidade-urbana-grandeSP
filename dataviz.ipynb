{
  "cells": [
    {
      "cell_type": "markdown",
      "id": "da7af8ce-393b-4086-9e18-457faa1e28a7",
      "metadata": {
        "id": "da7af8ce-393b-4086-9e18-457faa1e28a7"
      },
      "source": [
        "<br>\n",
        "\n",
        "<font size=6 color='green'>**Visualização gráfica dos principais modais utilizados como transporte na Grande SP**</font>\n",
        "\n",
        "---\n",
        "---"
      ]
    },
    {
      "cell_type": "markdown",
      "id": "766fd0c0-e40f-43c1-ade7-57fc3f97ce99",
      "metadata": {
        "id": "766fd0c0-e40f-43c1-ade7-57fc3f97ce99"
      },
      "source": [
        "> Atividade prática proposta da matéria: `Visualização Computacional [Semana 6 - UNIVESP]`"
      ]
    },
    {
      "cell_type": "code",
      "execution_count": 1,
      "id": "130f81d7-3f3c-4993-ae30-c35925d07a50",
      "metadata": {
        "colab": {
          "base_uri": "https://localhost:8080/",
          "height": 35
        },
        "id": "130f81d7-3f3c-4993-ae30-c35925d07a50",
        "outputId": "7463656d-6b4a-43e0-c1cf-1c555140ee87"
      },
      "outputs": [
        {
          "output_type": "execute_result",
          "data": {
            "text/plain": [
              "'/content'"
            ],
            "application/vnd.google.colaboratory.intrinsic+json": {
              "type": "string"
            }
          },
          "metadata": {},
          "execution_count": 1
        }
      ],
      "source": [
        "%pwd"
      ]
    },
    {
      "cell_type": "code",
      "source": [
        "%ls"
      ],
      "metadata": {
        "colab": {
          "base_uri": "https://localhost:8080/"
        },
        "id": "o15GUr1dVLMe",
        "outputId": "d035a4a3-0434-4b8f-ba9a-4e187f69bd45"
      },
      "id": "o15GUr1dVLMe",
      "execution_count": 2,
      "outputs": [
        {
          "output_type": "stream",
          "name": "stdout",
          "text": [
            "dataset.csv  \u001b[0m\u001b[01;34msample_data\u001b[0m/\n"
          ]
        }
      ]
    },
    {
      "cell_type": "code",
      "execution_count": 3,
      "id": "3f2fbcbe-1e5a-4e45-8d28-2eca1ef949ad",
      "metadata": {
        "colab": {
          "base_uri": "https://localhost:8080/"
        },
        "id": "3f2fbcbe-1e5a-4e45-8d28-2eca1ef949ad",
        "outputId": "81a97da7-aea6-4aa6-8ffb-97c260012779"
      },
      "outputs": [
        {
          "output_type": "stream",
          "name": "stdout",
          "text": [
            "MODOPRIN,FE_VIA,CRITERIOBR\n",
            "A pe,22.132647,C1\n",
            "A pe,22.132647,C1\n",
            "Metro,18.882487,C1\n",
            "Metro,18.882487,C1\n",
            "Taxi,18.882487,C1\n",
            "A pe,22.132647,C2\n",
            "A pe,22.132647,C2\n",
            "A pe,22.132647,C2\n",
            "A pe,22.132647,C2\n"
          ]
        }
      ],
      "source": [
        "!head dataset.csv"
      ]
    },
    {
      "cell_type": "code",
      "execution_count": null,
      "id": "cb298c57-9116-4f3a-bc90-a3834f4776c8",
      "metadata": {
        "id": "cb298c57-9116-4f3a-bc90-a3834f4776c8"
      },
      "outputs": [],
      "source": [
        "!pip install -q plotly -U"
      ]
    },
    {
      "cell_type": "code",
      "execution_count": 4,
      "id": "2d5672f0-e3c2-4c7a-a14f-1410d0b8664f",
      "metadata": {
        "id": "2d5672f0-e3c2-4c7a-a14f-1410d0b8664f"
      },
      "outputs": [],
      "source": [
        "import pandas as pd\n",
        "import plotly\n",
        "import plotly.express as px"
      ]
    },
    {
      "cell_type": "code",
      "execution_count": 5,
      "id": "37f2fcdd-1fa7-4cb9-8836-1a03b087b837",
      "metadata": {
        "colab": {
          "base_uri": "https://localhost:8080/"
        },
        "id": "37f2fcdd-1fa7-4cb9-8836-1a03b087b837",
        "outputId": "456eaa1e-a6fc-43f0-e4c8-65d47197e89c"
      },
      "outputs": [
        {
          "output_type": "stream",
          "name": "stdout",
          "text": [
            "\tVERSION\n",
            "=========================\n",
            "Pandas: 1.5.3\n",
            "Plotly: 5.15.0\n"
          ]
        }
      ],
      "source": [
        "print(\n",
        "    '\\tVERSION',\n",
        "    '='*25,\n",
        "    f'Pandas: {pd.__version__}',\n",
        "    f'Plotly: {plotly.__version__}',\n",
        "    sep='\\n'\n",
        ")"
      ]
    },
    {
      "cell_type": "code",
      "execution_count": 6,
      "id": "214e705a-0744-4e0b-b7fd-40e5a1503a52",
      "metadata": {
        "colab": {
          "base_uri": "https://localhost:8080/",
          "height": 206
        },
        "id": "214e705a-0744-4e0b-b7fd-40e5a1503a52",
        "outputId": "46ed5dd3-31c9-4479-d8b6-e07f342275dc"
      },
      "outputs": [
        {
          "output_type": "execute_result",
          "data": {
            "text/plain": [
              "  MODOPRIN     FE_VIA CRITERIOBR\n",
              "0     A pe  22.132647         C1\n",
              "1     A pe  22.132647         C1\n",
              "2    Metro  18.882487         C1\n",
              "3    Metro  18.882487         C1\n",
              "4     Taxi  18.882487         C1"
            ],
            "text/html": [
              "\n",
              "  <div id=\"df-1217e13b-4a9c-41ed-b996-93edd91390b7\" class=\"colab-df-container\">\n",
              "    <div>\n",
              "<style scoped>\n",
              "    .dataframe tbody tr th:only-of-type {\n",
              "        vertical-align: middle;\n",
              "    }\n",
              "\n",
              "    .dataframe tbody tr th {\n",
              "        vertical-align: top;\n",
              "    }\n",
              "\n",
              "    .dataframe thead th {\n",
              "        text-align: right;\n",
              "    }\n",
              "</style>\n",
              "<table border=\"1\" class=\"dataframe\">\n",
              "  <thead>\n",
              "    <tr style=\"text-align: right;\">\n",
              "      <th></th>\n",
              "      <th>MODOPRIN</th>\n",
              "      <th>FE_VIA</th>\n",
              "      <th>CRITERIOBR</th>\n",
              "    </tr>\n",
              "  </thead>\n",
              "  <tbody>\n",
              "    <tr>\n",
              "      <th>0</th>\n",
              "      <td>A pe</td>\n",
              "      <td>22.132647</td>\n",
              "      <td>C1</td>\n",
              "    </tr>\n",
              "    <tr>\n",
              "      <th>1</th>\n",
              "      <td>A pe</td>\n",
              "      <td>22.132647</td>\n",
              "      <td>C1</td>\n",
              "    </tr>\n",
              "    <tr>\n",
              "      <th>2</th>\n",
              "      <td>Metro</td>\n",
              "      <td>18.882487</td>\n",
              "      <td>C1</td>\n",
              "    </tr>\n",
              "    <tr>\n",
              "      <th>3</th>\n",
              "      <td>Metro</td>\n",
              "      <td>18.882487</td>\n",
              "      <td>C1</td>\n",
              "    </tr>\n",
              "    <tr>\n",
              "      <th>4</th>\n",
              "      <td>Taxi</td>\n",
              "      <td>18.882487</td>\n",
              "      <td>C1</td>\n",
              "    </tr>\n",
              "  </tbody>\n",
              "</table>\n",
              "</div>\n",
              "    <div class=\"colab-df-buttons\">\n",
              "\n",
              "  <div class=\"colab-df-container\">\n",
              "    <button class=\"colab-df-convert\" onclick=\"convertToInteractive('df-1217e13b-4a9c-41ed-b996-93edd91390b7')\"\n",
              "            title=\"Convert this dataframe to an interactive table.\"\n",
              "            style=\"display:none;\">\n",
              "\n",
              "  <svg xmlns=\"http://www.w3.org/2000/svg\" height=\"24px\" viewBox=\"0 -960 960 960\">\n",
              "    <path d=\"M120-120v-720h720v720H120Zm60-500h600v-160H180v160Zm220 220h160v-160H400v160Zm0 220h160v-160H400v160ZM180-400h160v-160H180v160Zm440 0h160v-160H620v160ZM180-180h160v-160H180v160Zm440 0h160v-160H620v160Z\"/>\n",
              "  </svg>\n",
              "    </button>\n",
              "\n",
              "  <style>\n",
              "    .colab-df-container {\n",
              "      display:flex;\n",
              "      gap: 12px;\n",
              "    }\n",
              "\n",
              "    .colab-df-convert {\n",
              "      background-color: #E8F0FE;\n",
              "      border: none;\n",
              "      border-radius: 50%;\n",
              "      cursor: pointer;\n",
              "      display: none;\n",
              "      fill: #1967D2;\n",
              "      height: 32px;\n",
              "      padding: 0 0 0 0;\n",
              "      width: 32px;\n",
              "    }\n",
              "\n",
              "    .colab-df-convert:hover {\n",
              "      background-color: #E2EBFA;\n",
              "      box-shadow: 0px 1px 2px rgba(60, 64, 67, 0.3), 0px 1px 3px 1px rgba(60, 64, 67, 0.15);\n",
              "      fill: #174EA6;\n",
              "    }\n",
              "\n",
              "    .colab-df-buttons div {\n",
              "      margin-bottom: 4px;\n",
              "    }\n",
              "\n",
              "    [theme=dark] .colab-df-convert {\n",
              "      background-color: #3B4455;\n",
              "      fill: #D2E3FC;\n",
              "    }\n",
              "\n",
              "    [theme=dark] .colab-df-convert:hover {\n",
              "      background-color: #434B5C;\n",
              "      box-shadow: 0px 1px 3px 1px rgba(0, 0, 0, 0.15);\n",
              "      filter: drop-shadow(0px 1px 2px rgba(0, 0, 0, 0.3));\n",
              "      fill: #FFFFFF;\n",
              "    }\n",
              "  </style>\n",
              "\n",
              "    <script>\n",
              "      const buttonEl =\n",
              "        document.querySelector('#df-1217e13b-4a9c-41ed-b996-93edd91390b7 button.colab-df-convert');\n",
              "      buttonEl.style.display =\n",
              "        google.colab.kernel.accessAllowed ? 'block' : 'none';\n",
              "\n",
              "      async function convertToInteractive(key) {\n",
              "        const element = document.querySelector('#df-1217e13b-4a9c-41ed-b996-93edd91390b7');\n",
              "        const dataTable =\n",
              "          await google.colab.kernel.invokeFunction('convertToInteractive',\n",
              "                                                    [key], {});\n",
              "        if (!dataTable) return;\n",
              "\n",
              "        const docLinkHtml = 'Like what you see? Visit the ' +\n",
              "          '<a target=\"_blank\" href=https://colab.research.google.com/notebooks/data_table.ipynb>data table notebook</a>'\n",
              "          + ' to learn more about interactive tables.';\n",
              "        element.innerHTML = '';\n",
              "        dataTable['output_type'] = 'display_data';\n",
              "        await google.colab.output.renderOutput(dataTable, element);\n",
              "        const docLink = document.createElement('div');\n",
              "        docLink.innerHTML = docLinkHtml;\n",
              "        element.appendChild(docLink);\n",
              "      }\n",
              "    </script>\n",
              "  </div>\n",
              "\n",
              "\n",
              "<div id=\"df-e5b007e4-f8c9-4387-a6e6-692e5decf02f\">\n",
              "  <button class=\"colab-df-quickchart\" onclick=\"quickchart('df-e5b007e4-f8c9-4387-a6e6-692e5decf02f')\"\n",
              "            title=\"Suggest charts\"\n",
              "            style=\"display:none;\">\n",
              "\n",
              "<svg xmlns=\"http://www.w3.org/2000/svg\" height=\"24px\"viewBox=\"0 0 24 24\"\n",
              "     width=\"24px\">\n",
              "    <g>\n",
              "        <path d=\"M19 3H5c-1.1 0-2 .9-2 2v14c0 1.1.9 2 2 2h14c1.1 0 2-.9 2-2V5c0-1.1-.9-2-2-2zM9 17H7v-7h2v7zm4 0h-2V7h2v10zm4 0h-2v-4h2v4z\"/>\n",
              "    </g>\n",
              "</svg>\n",
              "  </button>\n",
              "\n",
              "<style>\n",
              "  .colab-df-quickchart {\n",
              "      --bg-color: #E8F0FE;\n",
              "      --fill-color: #1967D2;\n",
              "      --hover-bg-color: #E2EBFA;\n",
              "      --hover-fill-color: #174EA6;\n",
              "      --disabled-fill-color: #AAA;\n",
              "      --disabled-bg-color: #DDD;\n",
              "  }\n",
              "\n",
              "  [theme=dark] .colab-df-quickchart {\n",
              "      --bg-color: #3B4455;\n",
              "      --fill-color: #D2E3FC;\n",
              "      --hover-bg-color: #434B5C;\n",
              "      --hover-fill-color: #FFFFFF;\n",
              "      --disabled-bg-color: #3B4455;\n",
              "      --disabled-fill-color: #666;\n",
              "  }\n",
              "\n",
              "  .colab-df-quickchart {\n",
              "    background-color: var(--bg-color);\n",
              "    border: none;\n",
              "    border-radius: 50%;\n",
              "    cursor: pointer;\n",
              "    display: none;\n",
              "    fill: var(--fill-color);\n",
              "    height: 32px;\n",
              "    padding: 0;\n",
              "    width: 32px;\n",
              "  }\n",
              "\n",
              "  .colab-df-quickchart:hover {\n",
              "    background-color: var(--hover-bg-color);\n",
              "    box-shadow: 0 1px 2px rgba(60, 64, 67, 0.3), 0 1px 3px 1px rgba(60, 64, 67, 0.15);\n",
              "    fill: var(--button-hover-fill-color);\n",
              "  }\n",
              "\n",
              "  .colab-df-quickchart-complete:disabled,\n",
              "  .colab-df-quickchart-complete:disabled:hover {\n",
              "    background-color: var(--disabled-bg-color);\n",
              "    fill: var(--disabled-fill-color);\n",
              "    box-shadow: none;\n",
              "  }\n",
              "\n",
              "  .colab-df-spinner {\n",
              "    border: 2px solid var(--fill-color);\n",
              "    border-color: transparent;\n",
              "    border-bottom-color: var(--fill-color);\n",
              "    animation:\n",
              "      spin 1s steps(1) infinite;\n",
              "  }\n",
              "\n",
              "  @keyframes spin {\n",
              "    0% {\n",
              "      border-color: transparent;\n",
              "      border-bottom-color: var(--fill-color);\n",
              "      border-left-color: var(--fill-color);\n",
              "    }\n",
              "    20% {\n",
              "      border-color: transparent;\n",
              "      border-left-color: var(--fill-color);\n",
              "      border-top-color: var(--fill-color);\n",
              "    }\n",
              "    30% {\n",
              "      border-color: transparent;\n",
              "      border-left-color: var(--fill-color);\n",
              "      border-top-color: var(--fill-color);\n",
              "      border-right-color: var(--fill-color);\n",
              "    }\n",
              "    40% {\n",
              "      border-color: transparent;\n",
              "      border-right-color: var(--fill-color);\n",
              "      border-top-color: var(--fill-color);\n",
              "    }\n",
              "    60% {\n",
              "      border-color: transparent;\n",
              "      border-right-color: var(--fill-color);\n",
              "    }\n",
              "    80% {\n",
              "      border-color: transparent;\n",
              "      border-right-color: var(--fill-color);\n",
              "      border-bottom-color: var(--fill-color);\n",
              "    }\n",
              "    90% {\n",
              "      border-color: transparent;\n",
              "      border-bottom-color: var(--fill-color);\n",
              "    }\n",
              "  }\n",
              "</style>\n",
              "\n",
              "  <script>\n",
              "    async function quickchart(key) {\n",
              "      const quickchartButtonEl =\n",
              "        document.querySelector('#' + key + ' button');\n",
              "      quickchartButtonEl.disabled = true;  // To prevent multiple clicks.\n",
              "      quickchartButtonEl.classList.add('colab-df-spinner');\n",
              "      try {\n",
              "        const charts = await google.colab.kernel.invokeFunction(\n",
              "            'suggestCharts', [key], {});\n",
              "      } catch (error) {\n",
              "        console.error('Error during call to suggestCharts:', error);\n",
              "      }\n",
              "      quickchartButtonEl.classList.remove('colab-df-spinner');\n",
              "      quickchartButtonEl.classList.add('colab-df-quickchart-complete');\n",
              "    }\n",
              "    (() => {\n",
              "      let quickchartButtonEl =\n",
              "        document.querySelector('#df-e5b007e4-f8c9-4387-a6e6-692e5decf02f button');\n",
              "      quickchartButtonEl.style.display =\n",
              "        google.colab.kernel.accessAllowed ? 'block' : 'none';\n",
              "    })();\n",
              "  </script>\n",
              "</div>\n",
              "\n",
              "    </div>\n",
              "  </div>\n"
            ],
            "application/vnd.google.colaboratory.intrinsic+json": {
              "type": "dataframe",
              "variable_name": "df"
            }
          },
          "metadata": {},
          "execution_count": 6
        }
      ],
      "source": [
        "df = pd.read_csv(filepath_or_buffer='dataset.csv')\n",
        "df.head()"
      ]
    },
    {
      "cell_type": "code",
      "execution_count": 7,
      "id": "8bade80b-899e-462f-8742-cf760bd6aa49",
      "metadata": {
        "colab": {
          "base_uri": "https://localhost:8080/"
        },
        "id": "8bade80b-899e-462f-8742-cf760bd6aa49",
        "outputId": "e9baec3a-4ecd-473d-ffec-46c2e290701d"
      },
      "outputs": [
        {
          "output_type": "stream",
          "name": "stdout",
          "text": [
            "<class 'pandas.core.frame.DataFrame'>\n",
            "RangeIndex: 183092 entries, 0 to 183091\n",
            "Data columns (total 3 columns):\n",
            " #   Column      Non-Null Count   Dtype  \n",
            "---  ------      --------------   -----  \n",
            " 0   MODOPRIN    183092 non-null  object \n",
            " 1   FE_VIA      183092 non-null  float64\n",
            " 2   CRITERIOBR  183092 non-null  object \n",
            "dtypes: float64(1), object(2)\n",
            "memory usage: 4.2+ MB\n"
          ]
        }
      ],
      "source": [
        "df.info()"
      ]
    },
    {
      "cell_type": "code",
      "execution_count": 8,
      "id": "0622c74c-2e7b-4832-8b9e-5ed24ab2db2e",
      "metadata": {
        "id": "0622c74c-2e7b-4832-8b9e-5ed24ab2db2e"
      },
      "outputs": [],
      "source": [
        "?px.sunburst"
      ]
    },
    {
      "cell_type": "code",
      "execution_count": 10,
      "id": "1eac6c60-b891-4130-9fe2-797730098a9a",
      "metadata": {
        "colab": {
          "base_uri": "https://localhost:8080/",
          "height": 542
        },
        "id": "1eac6c60-b891-4130-9fe2-797730098a9a",
        "outputId": "07f54cc7-359d-4c50-f4f8-3c76088d90d1"
      },
      "outputs": [
        {
          "output_type": "display_data",
          "data": {
            "text/html": [
              "<html>\n",
              "<head><meta charset=\"utf-8\" /></head>\n",
              "<body>\n",
              "    <div>            <script src=\"https://cdnjs.cloudflare.com/ajax/libs/mathjax/2.7.5/MathJax.js?config=TeX-AMS-MML_SVG\"></script><script type=\"text/javascript\">if (window.MathJax && window.MathJax.Hub && window.MathJax.Hub.Config) {window.MathJax.Hub.Config({SVG: {font: \"STIX-Web\"}});}</script>                <script type=\"text/javascript\">window.PlotlyConfig = {MathJaxConfig: 'local'};</script>\n",
              "        <script charset=\"utf-8\" src=\"https://cdn.plot.ly/plotly-2.24.1.min.js\"></script>                <div id=\"a66897c6-6c0a-40e7-a32b-178030e885a2\" class=\"plotly-graph-div\" style=\"height:525px; width:100%;\"></div>            <script type=\"text/javascript\">                                    window.PLOTLYENV=window.PLOTLYENV || {};                                    if (document.getElementById(\"a66897c6-6c0a-40e7-a32b-178030e885a2\")) {                    Plotly.newPlot(                        \"a66897c6-6c0a-40e7-a32b-178030e885a2\",                        [{\"branchvalues\":\"total\",\"domain\":{\"x\":[0.0,1.0],\"y\":[0.0,1.0]},\"hovertemplate\":\"labels=%{label}\\u003cbr\\u003eFE_VIA=%{value}\\u003cbr\\u003eparent=%{parent}\\u003cbr\\u003eid=%{id}\\u003cextra\\u003e\\u003c\\u002fextra\\u003e\",\"ids\":[\"A pe\\u002fA\",\"Bike\\u002fA\",\"Carro\\u002fA\",\"Escolar\\u002fA\",\"Fretado\\u002fA\",\"Metro\\u002fA\",\"Moto\\u002fA\",\"Onibus\\u002fA\",\"Outros\\u002fA\",\"Taxi\\u002fA\",\"Trem\\u002fA\",\"A pe\\u002fB1\",\"Bike\\u002fB1\",\"Carro\\u002fB1\",\"Escolar\\u002fB1\",\"Fretado\\u002fB1\",\"Metro\\u002fB1\",\"Moto\\u002fB1\",\"Onibus\\u002fB1\",\"Outros\\u002fB1\",\"Taxi\\u002fB1\",\"Trem\\u002fB1\",\"A pe\\u002fB2\",\"Bike\\u002fB2\",\"Carro\\u002fB2\",\"Escolar\\u002fB2\",\"Fretado\\u002fB2\",\"Metro\\u002fB2\",\"Moto\\u002fB2\",\"Onibus\\u002fB2\",\"Outros\\u002fB2\",\"Taxi\\u002fB2\",\"Trem\\u002fB2\",\"A pe\\u002fC1\",\"Bike\\u002fC1\",\"Carro\\u002fC1\",\"Escolar\\u002fC1\",\"Fretado\\u002fC1\",\"Metro\\u002fC1\",\"Moto\\u002fC1\",\"Onibus\\u002fC1\",\"Outros\\u002fC1\",\"Taxi\\u002fC1\",\"Trem\\u002fC1\",\"A pe\\u002fC2\",\"Bike\\u002fC2\",\"Carro\\u002fC2\",\"Escolar\\u002fC2\",\"Fretado\\u002fC2\",\"Metro\\u002fC2\",\"Moto\\u002fC2\",\"Onibus\\u002fC2\",\"Outros\\u002fC2\",\"Taxi\\u002fC2\",\"Trem\\u002fC2\",\"A pe\\u002fD-E\",\"Bike\\u002fD-E\",\"Carro\\u002fD-E\",\"Escolar\\u002fD-E\",\"Fretado\\u002fD-E\",\"Metro\\u002fD-E\",\"Moto\\u002fD-E\",\"Onibus\\u002fD-E\",\"Outros\\u002fD-E\",\"Taxi\\u002fD-E\",\"Trem\\u002fD-E\",\"A pe\\u002fND\",\"Bike\\u002fND\",\"Carro\\u002fND\",\"Escolar\\u002fND\",\"Fretado\\u002fND\",\"Metro\\u002fND\",\"Moto\\u002fND\",\"Onibus\\u002fND\",\"Outros\\u002fND\",\"Taxi\\u002fND\",\"Trem\\u002fND\",\"A pe\",\"Bike\",\"Carro\",\"Escolar\",\"Fretado\",\"Metro\",\"Moto\",\"Onibus\",\"Outros\",\"Taxi\",\"Trem\"],\"labels\":[\"A\",\"A\",\"A\",\"A\",\"A\",\"A\",\"A\",\"A\",\"A\",\"A\",\"A\",\"B1\",\"B1\",\"B1\",\"B1\",\"B1\",\"B1\",\"B1\",\"B1\",\"B1\",\"B1\",\"B1\",\"B2\",\"B2\",\"B2\",\"B2\",\"B2\",\"B2\",\"B2\",\"B2\",\"B2\",\"B2\",\"B2\",\"C1\",\"C1\",\"C1\",\"C1\",\"C1\",\"C1\",\"C1\",\"C1\",\"C1\",\"C1\",\"C1\",\"C2\",\"C2\",\"C2\",\"C2\",\"C2\",\"C2\",\"C2\",\"C2\",\"C2\",\"C2\",\"C2\",\"D-E\",\"D-E\",\"D-E\",\"D-E\",\"D-E\",\"D-E\",\"D-E\",\"D-E\",\"D-E\",\"D-E\",\"D-E\",\"ND\",\"ND\",\"ND\",\"ND\",\"ND\",\"ND\",\"ND\",\"ND\",\"ND\",\"ND\",\"ND\",\"A pe\",\"Bike\",\"Carro\",\"Escolar\",\"Fretado\",\"Metro\",\"Moto\",\"Onibus\",\"Outros\",\"Taxi\",\"Trem\"],\"name\":\"\",\"parents\":[\"A pe\",\"Bike\",\"Carro\",\"Escolar\",\"Fretado\",\"Metro\",\"Moto\",\"Onibus\",\"Outros\",\"Taxi\",\"Trem\",\"A pe\",\"Bike\",\"Carro\",\"Escolar\",\"Fretado\",\"Metro\",\"Moto\",\"Onibus\",\"Outros\",\"Taxi\",\"Trem\",\"A pe\",\"Bike\",\"Carro\",\"Escolar\",\"Fretado\",\"Metro\",\"Moto\",\"Onibus\",\"Outros\",\"Taxi\",\"Trem\",\"A pe\",\"Bike\",\"Carro\",\"Escolar\",\"Fretado\",\"Metro\",\"Moto\",\"Onibus\",\"Outros\",\"Taxi\",\"Trem\",\"A pe\",\"Bike\",\"Carro\",\"Escolar\",\"Fretado\",\"Metro\",\"Moto\",\"Onibus\",\"Outros\",\"Taxi\",\"Trem\",\"A pe\",\"Bike\",\"Carro\",\"Escolar\",\"Fretado\",\"Metro\",\"Moto\",\"Onibus\",\"Outros\",\"Taxi\",\"Trem\",\"A pe\",\"Bike\",\"Carro\",\"Escolar\",\"Fretado\",\"Metro\",\"Moto\",\"Onibus\",\"Outros\",\"Taxi\",\"Trem\",\"\",\"\",\"\",\"\",\"\",\"\",\"\",\"\",\"\",\"\",\"\"],\"values\":[552366.295163,32279.663508,1771001.081027,96086.825205,11033.923765,221157.177938,53941.231719,212362.150844,8802.804942,81538.47750000001,24566.791172,812919.753476,26486.277785,1809385.792791,152849.664153,17740.879704,358523.830232,104374.451477,430147.54932,8179.882823,78131.841557,57530.169164,3262425.023472,75282.652568,4413032.088387,660609.459239,85824.781448,1166105.503564,379349.140039,2269649.929624,39596.200795,148999.535127,361560.243815,3858334.54256,108780.25354800001,2138769.783712,604575.409077,81421.974299,968693.47254,324173.139566,2661379.814904,39458.566309,81231.182892,416527.561937,3491982.639119,95697.010569,819382.136225,393416.42774,41341.400800999996,489141.371191,145717.351569,2000385.74032,26188.110078,58313.119656,296462.124238,1121611.266486,37128.438433999996,120812.806819,133375.88927400002,5302.786344,131053.148089,23439.398134,569654.329314,13987.035959,12749.473458,67049.451897,250236.302444,1320.937594,269012.363944,52628.822524,8868.766435,64286.717583,33115.421667,160893.052968,604.0,7480.7673030000005,21934.486971,13349875.82272,376975.234006,11341396.052905,2093542.497212,251534.512796,3398961.2211370002,1064110.134171,8304472.567294,136816.600906,468444.397493,1245630.829194],\"type\":\"sunburst\"}],                        {\"template\":{\"data\":{\"histogram2dcontour\":[{\"type\":\"histogram2dcontour\",\"colorbar\":{\"outlinewidth\":0,\"ticks\":\"\"},\"colorscale\":[[0.0,\"#0d0887\"],[0.1111111111111111,\"#46039f\"],[0.2222222222222222,\"#7201a8\"],[0.3333333333333333,\"#9c179e\"],[0.4444444444444444,\"#bd3786\"],[0.5555555555555556,\"#d8576b\"],[0.6666666666666666,\"#ed7953\"],[0.7777777777777778,\"#fb9f3a\"],[0.8888888888888888,\"#fdca26\"],[1.0,\"#f0f921\"]]}],\"choropleth\":[{\"type\":\"choropleth\",\"colorbar\":{\"outlinewidth\":0,\"ticks\":\"\"}}],\"histogram2d\":[{\"type\":\"histogram2d\",\"colorbar\":{\"outlinewidth\":0,\"ticks\":\"\"},\"colorscale\":[[0.0,\"#0d0887\"],[0.1111111111111111,\"#46039f\"],[0.2222222222222222,\"#7201a8\"],[0.3333333333333333,\"#9c179e\"],[0.4444444444444444,\"#bd3786\"],[0.5555555555555556,\"#d8576b\"],[0.6666666666666666,\"#ed7953\"],[0.7777777777777778,\"#fb9f3a\"],[0.8888888888888888,\"#fdca26\"],[1.0,\"#f0f921\"]]}],\"heatmap\":[{\"type\":\"heatmap\",\"colorbar\":{\"outlinewidth\":0,\"ticks\":\"\"},\"colorscale\":[[0.0,\"#0d0887\"],[0.1111111111111111,\"#46039f\"],[0.2222222222222222,\"#7201a8\"],[0.3333333333333333,\"#9c179e\"],[0.4444444444444444,\"#bd3786\"],[0.5555555555555556,\"#d8576b\"],[0.6666666666666666,\"#ed7953\"],[0.7777777777777778,\"#fb9f3a\"],[0.8888888888888888,\"#fdca26\"],[1.0,\"#f0f921\"]]}],\"heatmapgl\":[{\"type\":\"heatmapgl\",\"colorbar\":{\"outlinewidth\":0,\"ticks\":\"\"},\"colorscale\":[[0.0,\"#0d0887\"],[0.1111111111111111,\"#46039f\"],[0.2222222222222222,\"#7201a8\"],[0.3333333333333333,\"#9c179e\"],[0.4444444444444444,\"#bd3786\"],[0.5555555555555556,\"#d8576b\"],[0.6666666666666666,\"#ed7953\"],[0.7777777777777778,\"#fb9f3a\"],[0.8888888888888888,\"#fdca26\"],[1.0,\"#f0f921\"]]}],\"contourcarpet\":[{\"type\":\"contourcarpet\",\"colorbar\":{\"outlinewidth\":0,\"ticks\":\"\"}}],\"contour\":[{\"type\":\"contour\",\"colorbar\":{\"outlinewidth\":0,\"ticks\":\"\"},\"colorscale\":[[0.0,\"#0d0887\"],[0.1111111111111111,\"#46039f\"],[0.2222222222222222,\"#7201a8\"],[0.3333333333333333,\"#9c179e\"],[0.4444444444444444,\"#bd3786\"],[0.5555555555555556,\"#d8576b\"],[0.6666666666666666,\"#ed7953\"],[0.7777777777777778,\"#fb9f3a\"],[0.8888888888888888,\"#fdca26\"],[1.0,\"#f0f921\"]]}],\"surface\":[{\"type\":\"surface\",\"colorbar\":{\"outlinewidth\":0,\"ticks\":\"\"},\"colorscale\":[[0.0,\"#0d0887\"],[0.1111111111111111,\"#46039f\"],[0.2222222222222222,\"#7201a8\"],[0.3333333333333333,\"#9c179e\"],[0.4444444444444444,\"#bd3786\"],[0.5555555555555556,\"#d8576b\"],[0.6666666666666666,\"#ed7953\"],[0.7777777777777778,\"#fb9f3a\"],[0.8888888888888888,\"#fdca26\"],[1.0,\"#f0f921\"]]}],\"mesh3d\":[{\"type\":\"mesh3d\",\"colorbar\":{\"outlinewidth\":0,\"ticks\":\"\"}}],\"scatter\":[{\"fillpattern\":{\"fillmode\":\"overlay\",\"size\":10,\"solidity\":0.2},\"type\":\"scatter\"}],\"parcoords\":[{\"type\":\"parcoords\",\"line\":{\"colorbar\":{\"outlinewidth\":0,\"ticks\":\"\"}}}],\"scatterpolargl\":[{\"type\":\"scatterpolargl\",\"marker\":{\"colorbar\":{\"outlinewidth\":0,\"ticks\":\"\"}}}],\"bar\":[{\"error_x\":{\"color\":\"#2a3f5f\"},\"error_y\":{\"color\":\"#2a3f5f\"},\"marker\":{\"line\":{\"color\":\"#E5ECF6\",\"width\":0.5},\"pattern\":{\"fillmode\":\"overlay\",\"size\":10,\"solidity\":0.2}},\"type\":\"bar\"}],\"scattergeo\":[{\"type\":\"scattergeo\",\"marker\":{\"colorbar\":{\"outlinewidth\":0,\"ticks\":\"\"}}}],\"scatterpolar\":[{\"type\":\"scatterpolar\",\"marker\":{\"colorbar\":{\"outlinewidth\":0,\"ticks\":\"\"}}}],\"histogram\":[{\"marker\":{\"pattern\":{\"fillmode\":\"overlay\",\"size\":10,\"solidity\":0.2}},\"type\":\"histogram\"}],\"scattergl\":[{\"type\":\"scattergl\",\"marker\":{\"colorbar\":{\"outlinewidth\":0,\"ticks\":\"\"}}}],\"scatter3d\":[{\"type\":\"scatter3d\",\"line\":{\"colorbar\":{\"outlinewidth\":0,\"ticks\":\"\"}},\"marker\":{\"colorbar\":{\"outlinewidth\":0,\"ticks\":\"\"}}}],\"scattermapbox\":[{\"type\":\"scattermapbox\",\"marker\":{\"colorbar\":{\"outlinewidth\":0,\"ticks\":\"\"}}}],\"scatterternary\":[{\"type\":\"scatterternary\",\"marker\":{\"colorbar\":{\"outlinewidth\":0,\"ticks\":\"\"}}}],\"scattercarpet\":[{\"type\":\"scattercarpet\",\"marker\":{\"colorbar\":{\"outlinewidth\":0,\"ticks\":\"\"}}}],\"carpet\":[{\"aaxis\":{\"endlinecolor\":\"#2a3f5f\",\"gridcolor\":\"white\",\"linecolor\":\"white\",\"minorgridcolor\":\"white\",\"startlinecolor\":\"#2a3f5f\"},\"baxis\":{\"endlinecolor\":\"#2a3f5f\",\"gridcolor\":\"white\",\"linecolor\":\"white\",\"minorgridcolor\":\"white\",\"startlinecolor\":\"#2a3f5f\"},\"type\":\"carpet\"}],\"table\":[{\"cells\":{\"fill\":{\"color\":\"#EBF0F8\"},\"line\":{\"color\":\"white\"}},\"header\":{\"fill\":{\"color\":\"#C8D4E3\"},\"line\":{\"color\":\"white\"}},\"type\":\"table\"}],\"barpolar\":[{\"marker\":{\"line\":{\"color\":\"#E5ECF6\",\"width\":0.5},\"pattern\":{\"fillmode\":\"overlay\",\"size\":10,\"solidity\":0.2}},\"type\":\"barpolar\"}],\"pie\":[{\"automargin\":true,\"type\":\"pie\"}]},\"layout\":{\"autotypenumbers\":\"strict\",\"colorway\":[\"#636efa\",\"#EF553B\",\"#00cc96\",\"#ab63fa\",\"#FFA15A\",\"#19d3f3\",\"#FF6692\",\"#B6E880\",\"#FF97FF\",\"#FECB52\"],\"font\":{\"color\":\"#2a3f5f\"},\"hovermode\":\"closest\",\"hoverlabel\":{\"align\":\"left\"},\"paper_bgcolor\":\"white\",\"plot_bgcolor\":\"#E5ECF6\",\"polar\":{\"bgcolor\":\"#E5ECF6\",\"angularaxis\":{\"gridcolor\":\"white\",\"linecolor\":\"white\",\"ticks\":\"\"},\"radialaxis\":{\"gridcolor\":\"white\",\"linecolor\":\"white\",\"ticks\":\"\"}},\"ternary\":{\"bgcolor\":\"#E5ECF6\",\"aaxis\":{\"gridcolor\":\"white\",\"linecolor\":\"white\",\"ticks\":\"\"},\"baxis\":{\"gridcolor\":\"white\",\"linecolor\":\"white\",\"ticks\":\"\"},\"caxis\":{\"gridcolor\":\"white\",\"linecolor\":\"white\",\"ticks\":\"\"}},\"coloraxis\":{\"colorbar\":{\"outlinewidth\":0,\"ticks\":\"\"}},\"colorscale\":{\"sequential\":[[0.0,\"#0d0887\"],[0.1111111111111111,\"#46039f\"],[0.2222222222222222,\"#7201a8\"],[0.3333333333333333,\"#9c179e\"],[0.4444444444444444,\"#bd3786\"],[0.5555555555555556,\"#d8576b\"],[0.6666666666666666,\"#ed7953\"],[0.7777777777777778,\"#fb9f3a\"],[0.8888888888888888,\"#fdca26\"],[1.0,\"#f0f921\"]],\"sequentialminus\":[[0.0,\"#0d0887\"],[0.1111111111111111,\"#46039f\"],[0.2222222222222222,\"#7201a8\"],[0.3333333333333333,\"#9c179e\"],[0.4444444444444444,\"#bd3786\"],[0.5555555555555556,\"#d8576b\"],[0.6666666666666666,\"#ed7953\"],[0.7777777777777778,\"#fb9f3a\"],[0.8888888888888888,\"#fdca26\"],[1.0,\"#f0f921\"]],\"diverging\":[[0,\"#8e0152\"],[0.1,\"#c51b7d\"],[0.2,\"#de77ae\"],[0.3,\"#f1b6da\"],[0.4,\"#fde0ef\"],[0.5,\"#f7f7f7\"],[0.6,\"#e6f5d0\"],[0.7,\"#b8e186\"],[0.8,\"#7fbc41\"],[0.9,\"#4d9221\"],[1,\"#276419\"]]},\"xaxis\":{\"gridcolor\":\"white\",\"linecolor\":\"white\",\"ticks\":\"\",\"title\":{\"standoff\":15},\"zerolinecolor\":\"white\",\"automargin\":true,\"zerolinewidth\":2},\"yaxis\":{\"gridcolor\":\"white\",\"linecolor\":\"white\",\"ticks\":\"\",\"title\":{\"standoff\":15},\"zerolinecolor\":\"white\",\"automargin\":true,\"zerolinewidth\":2},\"scene\":{\"xaxis\":{\"backgroundcolor\":\"#E5ECF6\",\"gridcolor\":\"white\",\"linecolor\":\"white\",\"showbackground\":true,\"ticks\":\"\",\"zerolinecolor\":\"white\",\"gridwidth\":2},\"yaxis\":{\"backgroundcolor\":\"#E5ECF6\",\"gridcolor\":\"white\",\"linecolor\":\"white\",\"showbackground\":true,\"ticks\":\"\",\"zerolinecolor\":\"white\",\"gridwidth\":2},\"zaxis\":{\"backgroundcolor\":\"#E5ECF6\",\"gridcolor\":\"white\",\"linecolor\":\"white\",\"showbackground\":true,\"ticks\":\"\",\"zerolinecolor\":\"white\",\"gridwidth\":2}},\"shapedefaults\":{\"line\":{\"color\":\"#2a3f5f\"}},\"annotationdefaults\":{\"arrowcolor\":\"#2a3f5f\",\"arrowhead\":0,\"arrowwidth\":1},\"geo\":{\"bgcolor\":\"white\",\"landcolor\":\"#E5ECF6\",\"subunitcolor\":\"white\",\"showland\":true,\"showlakes\":true,\"lakecolor\":\"white\"},\"title\":{\"x\":0.05},\"mapbox\":{\"style\":\"light\"}}},\"legend\":{\"tracegroupgap\":0},\"margin\":{\"t\":60}},                        {\"responsive\": true}                    ).then(function(){\n",
              "                            \n",
              "var gd = document.getElementById('a66897c6-6c0a-40e7-a32b-178030e885a2');\n",
              "var x = new MutationObserver(function (mutations, observer) {{\n",
              "        var display = window.getComputedStyle(gd).display;\n",
              "        if (!display || display === 'none') {{\n",
              "            console.log([gd, 'removed!']);\n",
              "            Plotly.purge(gd);\n",
              "            observer.disconnect();\n",
              "        }}\n",
              "}});\n",
              "\n",
              "// Listen for the removal of the full notebook cells\n",
              "var notebookContainer = gd.closest('#notebook-container');\n",
              "if (notebookContainer) {{\n",
              "    x.observe(notebookContainer, {childList: true});\n",
              "}}\n",
              "\n",
              "// Listen for the clearing of the current output cell\n",
              "var outputEl = gd.closest('.output');\n",
              "if (outputEl) {{\n",
              "    x.observe(outputEl, {childList: true});\n",
              "}}\n",
              "\n",
              "                        })                };                            </script>        </div>\n",
              "</body>\n",
              "</html>"
            ]
          },
          "metadata": {}
        }
      ],
      "source": [
        "fig_sunburst = px.sunburst(data_frame=df,\n",
        "                           path=['MODOPRIN', 'CRITERIOBR'],\n",
        "                           values='FE_VIA')\n",
        "\n",
        "\n",
        "fig_sunburst.show()"
      ]
    },
    {
      "cell_type": "code",
      "source": [
        "?px.treemap"
      ],
      "metadata": {
        "id": "r9Sw9hKKXqCg"
      },
      "id": "r9Sw9hKKXqCg",
      "execution_count": 12,
      "outputs": []
    },
    {
      "cell_type": "code",
      "execution_count": 15,
      "id": "e075debf-51d8-41ac-afd6-97a993748465",
      "metadata": {
        "colab": {
          "base_uri": "https://localhost:8080/",
          "height": 542
        },
        "id": "e075debf-51d8-41ac-afd6-97a993748465",
        "outputId": "914b8c65-1004-4e19-c087-b903b5db1458"
      },
      "outputs": [
        {
          "output_type": "display_data",
          "data": {
            "text/html": [
              "<html>\n",
              "<head><meta charset=\"utf-8\" /></head>\n",
              "<body>\n",
              "    <div>            <script src=\"https://cdnjs.cloudflare.com/ajax/libs/mathjax/2.7.5/MathJax.js?config=TeX-AMS-MML_SVG\"></script><script type=\"text/javascript\">if (window.MathJax && window.MathJax.Hub && window.MathJax.Hub.Config) {window.MathJax.Hub.Config({SVG: {font: \"STIX-Web\"}});}</script>                <script type=\"text/javascript\">window.PlotlyConfig = {MathJaxConfig: 'local'};</script>\n",
              "        <script charset=\"utf-8\" src=\"https://cdn.plot.ly/plotly-2.24.1.min.js\"></script>                <div id=\"c88f4cda-ec49-4f7e-a022-b119f1645aa3\" class=\"plotly-graph-div\" style=\"height:525px; width:100%;\"></div>            <script type=\"text/javascript\">                                    window.PLOTLYENV=window.PLOTLYENV || {};                                    if (document.getElementById(\"c88f4cda-ec49-4f7e-a022-b119f1645aa3\")) {                    Plotly.newPlot(                        \"c88f4cda-ec49-4f7e-a022-b119f1645aa3\",                        [{\"branchvalues\":\"total\",\"domain\":{\"x\":[0.0,1.0],\"y\":[0.0,1.0]},\"hovertemplate\":\"labels=%{label}\\u003cbr\\u003eFE_VIA=%{value}\\u003cbr\\u003eparent=%{parent}\\u003cbr\\u003eid=%{id}\\u003cextra\\u003e\\u003c\\u002fextra\\u003e\",\"ids\":[\"A pe\\u002fA\",\"Bike\\u002fA\",\"Carro\\u002fA\",\"Escolar\\u002fA\",\"Fretado\\u002fA\",\"Metro\\u002fA\",\"Moto\\u002fA\",\"Onibus\\u002fA\",\"Outros\\u002fA\",\"Taxi\\u002fA\",\"Trem\\u002fA\",\"A pe\\u002fB1\",\"Bike\\u002fB1\",\"Carro\\u002fB1\",\"Escolar\\u002fB1\",\"Fretado\\u002fB1\",\"Metro\\u002fB1\",\"Moto\\u002fB1\",\"Onibus\\u002fB1\",\"Outros\\u002fB1\",\"Taxi\\u002fB1\",\"Trem\\u002fB1\",\"A pe\\u002fB2\",\"Bike\\u002fB2\",\"Carro\\u002fB2\",\"Escolar\\u002fB2\",\"Fretado\\u002fB2\",\"Metro\\u002fB2\",\"Moto\\u002fB2\",\"Onibus\\u002fB2\",\"Outros\\u002fB2\",\"Taxi\\u002fB2\",\"Trem\\u002fB2\",\"A pe\\u002fC1\",\"Bike\\u002fC1\",\"Carro\\u002fC1\",\"Escolar\\u002fC1\",\"Fretado\\u002fC1\",\"Metro\\u002fC1\",\"Moto\\u002fC1\",\"Onibus\\u002fC1\",\"Outros\\u002fC1\",\"Taxi\\u002fC1\",\"Trem\\u002fC1\",\"A pe\\u002fC2\",\"Bike\\u002fC2\",\"Carro\\u002fC2\",\"Escolar\\u002fC2\",\"Fretado\\u002fC2\",\"Metro\\u002fC2\",\"Moto\\u002fC2\",\"Onibus\\u002fC2\",\"Outros\\u002fC2\",\"Taxi\\u002fC2\",\"Trem\\u002fC2\",\"A pe\\u002fD-E\",\"Bike\\u002fD-E\",\"Carro\\u002fD-E\",\"Escolar\\u002fD-E\",\"Fretado\\u002fD-E\",\"Metro\\u002fD-E\",\"Moto\\u002fD-E\",\"Onibus\\u002fD-E\",\"Outros\\u002fD-E\",\"Taxi\\u002fD-E\",\"Trem\\u002fD-E\",\"A pe\\u002fND\",\"Bike\\u002fND\",\"Carro\\u002fND\",\"Escolar\\u002fND\",\"Fretado\\u002fND\",\"Metro\\u002fND\",\"Moto\\u002fND\",\"Onibus\\u002fND\",\"Outros\\u002fND\",\"Taxi\\u002fND\",\"Trem\\u002fND\",\"A pe\",\"Bike\",\"Carro\",\"Escolar\",\"Fretado\",\"Metro\",\"Moto\",\"Onibus\",\"Outros\",\"Taxi\",\"Trem\"],\"labels\":[\"A\",\"A\",\"A\",\"A\",\"A\",\"A\",\"A\",\"A\",\"A\",\"A\",\"A\",\"B1\",\"B1\",\"B1\",\"B1\",\"B1\",\"B1\",\"B1\",\"B1\",\"B1\",\"B1\",\"B1\",\"B2\",\"B2\",\"B2\",\"B2\",\"B2\",\"B2\",\"B2\",\"B2\",\"B2\",\"B2\",\"B2\",\"C1\",\"C1\",\"C1\",\"C1\",\"C1\",\"C1\",\"C1\",\"C1\",\"C1\",\"C1\",\"C1\",\"C2\",\"C2\",\"C2\",\"C2\",\"C2\",\"C2\",\"C2\",\"C2\",\"C2\",\"C2\",\"C2\",\"D-E\",\"D-E\",\"D-E\",\"D-E\",\"D-E\",\"D-E\",\"D-E\",\"D-E\",\"D-E\",\"D-E\",\"D-E\",\"ND\",\"ND\",\"ND\",\"ND\",\"ND\",\"ND\",\"ND\",\"ND\",\"ND\",\"ND\",\"ND\",\"A pe\",\"Bike\",\"Carro\",\"Escolar\",\"Fretado\",\"Metro\",\"Moto\",\"Onibus\",\"Outros\",\"Taxi\",\"Trem\"],\"name\":\"\",\"parents\":[\"A pe\",\"Bike\",\"Carro\",\"Escolar\",\"Fretado\",\"Metro\",\"Moto\",\"Onibus\",\"Outros\",\"Taxi\",\"Trem\",\"A pe\",\"Bike\",\"Carro\",\"Escolar\",\"Fretado\",\"Metro\",\"Moto\",\"Onibus\",\"Outros\",\"Taxi\",\"Trem\",\"A pe\",\"Bike\",\"Carro\",\"Escolar\",\"Fretado\",\"Metro\",\"Moto\",\"Onibus\",\"Outros\",\"Taxi\",\"Trem\",\"A pe\",\"Bike\",\"Carro\",\"Escolar\",\"Fretado\",\"Metro\",\"Moto\",\"Onibus\",\"Outros\",\"Taxi\",\"Trem\",\"A pe\",\"Bike\",\"Carro\",\"Escolar\",\"Fretado\",\"Metro\",\"Moto\",\"Onibus\",\"Outros\",\"Taxi\",\"Trem\",\"A pe\",\"Bike\",\"Carro\",\"Escolar\",\"Fretado\",\"Metro\",\"Moto\",\"Onibus\",\"Outros\",\"Taxi\",\"Trem\",\"A pe\",\"Bike\",\"Carro\",\"Escolar\",\"Fretado\",\"Metro\",\"Moto\",\"Onibus\",\"Outros\",\"Taxi\",\"Trem\",\"\",\"\",\"\",\"\",\"\",\"\",\"\",\"\",\"\",\"\",\"\"],\"values\":[552366.295163,32279.663508,1771001.081027,96086.825205,11033.923765,221157.177938,53941.231719,212362.150844,8802.804942,81538.47750000001,24566.791172,812919.753476,26486.277785,1809385.792791,152849.664153,17740.879704,358523.830232,104374.451477,430147.54932,8179.882823,78131.841557,57530.169164,3262425.023472,75282.652568,4413032.088387,660609.459239,85824.781448,1166105.503564,379349.140039,2269649.929624,39596.200795,148999.535127,361560.243815,3858334.54256,108780.25354800001,2138769.783712,604575.409077,81421.974299,968693.47254,324173.139566,2661379.814904,39458.566309,81231.182892,416527.561937,3491982.639119,95697.010569,819382.136225,393416.42774,41341.400800999996,489141.371191,145717.351569,2000385.74032,26188.110078,58313.119656,296462.124238,1121611.266486,37128.438433999996,120812.806819,133375.88927400002,5302.786344,131053.148089,23439.398134,569654.329314,13987.035959,12749.473458,67049.451897,250236.302444,1320.937594,269012.363944,52628.822524,8868.766435,64286.717583,33115.421667,160893.052968,604.0,7480.7673030000005,21934.486971,13349875.82272,376975.234006,11341396.052905,2093542.497212,251534.512796,3398961.2211370002,1064110.134171,8304472.567294,136816.600906,468444.397493,1245630.829194],\"type\":\"treemap\"}],                        {\"template\":{\"data\":{\"histogram2dcontour\":[{\"type\":\"histogram2dcontour\",\"colorbar\":{\"outlinewidth\":0,\"ticks\":\"\"},\"colorscale\":[[0.0,\"#0d0887\"],[0.1111111111111111,\"#46039f\"],[0.2222222222222222,\"#7201a8\"],[0.3333333333333333,\"#9c179e\"],[0.4444444444444444,\"#bd3786\"],[0.5555555555555556,\"#d8576b\"],[0.6666666666666666,\"#ed7953\"],[0.7777777777777778,\"#fb9f3a\"],[0.8888888888888888,\"#fdca26\"],[1.0,\"#f0f921\"]]}],\"choropleth\":[{\"type\":\"choropleth\",\"colorbar\":{\"outlinewidth\":0,\"ticks\":\"\"}}],\"histogram2d\":[{\"type\":\"histogram2d\",\"colorbar\":{\"outlinewidth\":0,\"ticks\":\"\"},\"colorscale\":[[0.0,\"#0d0887\"],[0.1111111111111111,\"#46039f\"],[0.2222222222222222,\"#7201a8\"],[0.3333333333333333,\"#9c179e\"],[0.4444444444444444,\"#bd3786\"],[0.5555555555555556,\"#d8576b\"],[0.6666666666666666,\"#ed7953\"],[0.7777777777777778,\"#fb9f3a\"],[0.8888888888888888,\"#fdca26\"],[1.0,\"#f0f921\"]]}],\"heatmap\":[{\"type\":\"heatmap\",\"colorbar\":{\"outlinewidth\":0,\"ticks\":\"\"},\"colorscale\":[[0.0,\"#0d0887\"],[0.1111111111111111,\"#46039f\"],[0.2222222222222222,\"#7201a8\"],[0.3333333333333333,\"#9c179e\"],[0.4444444444444444,\"#bd3786\"],[0.5555555555555556,\"#d8576b\"],[0.6666666666666666,\"#ed7953\"],[0.7777777777777778,\"#fb9f3a\"],[0.8888888888888888,\"#fdca26\"],[1.0,\"#f0f921\"]]}],\"heatmapgl\":[{\"type\":\"heatmapgl\",\"colorbar\":{\"outlinewidth\":0,\"ticks\":\"\"},\"colorscale\":[[0.0,\"#0d0887\"],[0.1111111111111111,\"#46039f\"],[0.2222222222222222,\"#7201a8\"],[0.3333333333333333,\"#9c179e\"],[0.4444444444444444,\"#bd3786\"],[0.5555555555555556,\"#d8576b\"],[0.6666666666666666,\"#ed7953\"],[0.7777777777777778,\"#fb9f3a\"],[0.8888888888888888,\"#fdca26\"],[1.0,\"#f0f921\"]]}],\"contourcarpet\":[{\"type\":\"contourcarpet\",\"colorbar\":{\"outlinewidth\":0,\"ticks\":\"\"}}],\"contour\":[{\"type\":\"contour\",\"colorbar\":{\"outlinewidth\":0,\"ticks\":\"\"},\"colorscale\":[[0.0,\"#0d0887\"],[0.1111111111111111,\"#46039f\"],[0.2222222222222222,\"#7201a8\"],[0.3333333333333333,\"#9c179e\"],[0.4444444444444444,\"#bd3786\"],[0.5555555555555556,\"#d8576b\"],[0.6666666666666666,\"#ed7953\"],[0.7777777777777778,\"#fb9f3a\"],[0.8888888888888888,\"#fdca26\"],[1.0,\"#f0f921\"]]}],\"surface\":[{\"type\":\"surface\",\"colorbar\":{\"outlinewidth\":0,\"ticks\":\"\"},\"colorscale\":[[0.0,\"#0d0887\"],[0.1111111111111111,\"#46039f\"],[0.2222222222222222,\"#7201a8\"],[0.3333333333333333,\"#9c179e\"],[0.4444444444444444,\"#bd3786\"],[0.5555555555555556,\"#d8576b\"],[0.6666666666666666,\"#ed7953\"],[0.7777777777777778,\"#fb9f3a\"],[0.8888888888888888,\"#fdca26\"],[1.0,\"#f0f921\"]]}],\"mesh3d\":[{\"type\":\"mesh3d\",\"colorbar\":{\"outlinewidth\":0,\"ticks\":\"\"}}],\"scatter\":[{\"fillpattern\":{\"fillmode\":\"overlay\",\"size\":10,\"solidity\":0.2},\"type\":\"scatter\"}],\"parcoords\":[{\"type\":\"parcoords\",\"line\":{\"colorbar\":{\"outlinewidth\":0,\"ticks\":\"\"}}}],\"scatterpolargl\":[{\"type\":\"scatterpolargl\",\"marker\":{\"colorbar\":{\"outlinewidth\":0,\"ticks\":\"\"}}}],\"bar\":[{\"error_x\":{\"color\":\"#2a3f5f\"},\"error_y\":{\"color\":\"#2a3f5f\"},\"marker\":{\"line\":{\"color\":\"#E5ECF6\",\"width\":0.5},\"pattern\":{\"fillmode\":\"overlay\",\"size\":10,\"solidity\":0.2}},\"type\":\"bar\"}],\"scattergeo\":[{\"type\":\"scattergeo\",\"marker\":{\"colorbar\":{\"outlinewidth\":0,\"ticks\":\"\"}}}],\"scatterpolar\":[{\"type\":\"scatterpolar\",\"marker\":{\"colorbar\":{\"outlinewidth\":0,\"ticks\":\"\"}}}],\"histogram\":[{\"marker\":{\"pattern\":{\"fillmode\":\"overlay\",\"size\":10,\"solidity\":0.2}},\"type\":\"histogram\"}],\"scattergl\":[{\"type\":\"scattergl\",\"marker\":{\"colorbar\":{\"outlinewidth\":0,\"ticks\":\"\"}}}],\"scatter3d\":[{\"type\":\"scatter3d\",\"line\":{\"colorbar\":{\"outlinewidth\":0,\"ticks\":\"\"}},\"marker\":{\"colorbar\":{\"outlinewidth\":0,\"ticks\":\"\"}}}],\"scattermapbox\":[{\"type\":\"scattermapbox\",\"marker\":{\"colorbar\":{\"outlinewidth\":0,\"ticks\":\"\"}}}],\"scatterternary\":[{\"type\":\"scatterternary\",\"marker\":{\"colorbar\":{\"outlinewidth\":0,\"ticks\":\"\"}}}],\"scattercarpet\":[{\"type\":\"scattercarpet\",\"marker\":{\"colorbar\":{\"outlinewidth\":0,\"ticks\":\"\"}}}],\"carpet\":[{\"aaxis\":{\"endlinecolor\":\"#2a3f5f\",\"gridcolor\":\"white\",\"linecolor\":\"white\",\"minorgridcolor\":\"white\",\"startlinecolor\":\"#2a3f5f\"},\"baxis\":{\"endlinecolor\":\"#2a3f5f\",\"gridcolor\":\"white\",\"linecolor\":\"white\",\"minorgridcolor\":\"white\",\"startlinecolor\":\"#2a3f5f\"},\"type\":\"carpet\"}],\"table\":[{\"cells\":{\"fill\":{\"color\":\"#EBF0F8\"},\"line\":{\"color\":\"white\"}},\"header\":{\"fill\":{\"color\":\"#C8D4E3\"},\"line\":{\"color\":\"white\"}},\"type\":\"table\"}],\"barpolar\":[{\"marker\":{\"line\":{\"color\":\"#E5ECF6\",\"width\":0.5},\"pattern\":{\"fillmode\":\"overlay\",\"size\":10,\"solidity\":0.2}},\"type\":\"barpolar\"}],\"pie\":[{\"automargin\":true,\"type\":\"pie\"}]},\"layout\":{\"autotypenumbers\":\"strict\",\"colorway\":[\"#636efa\",\"#EF553B\",\"#00cc96\",\"#ab63fa\",\"#FFA15A\",\"#19d3f3\",\"#FF6692\",\"#B6E880\",\"#FF97FF\",\"#FECB52\"],\"font\":{\"color\":\"#2a3f5f\"},\"hovermode\":\"closest\",\"hoverlabel\":{\"align\":\"left\"},\"paper_bgcolor\":\"white\",\"plot_bgcolor\":\"#E5ECF6\",\"polar\":{\"bgcolor\":\"#E5ECF6\",\"angularaxis\":{\"gridcolor\":\"white\",\"linecolor\":\"white\",\"ticks\":\"\"},\"radialaxis\":{\"gridcolor\":\"white\",\"linecolor\":\"white\",\"ticks\":\"\"}},\"ternary\":{\"bgcolor\":\"#E5ECF6\",\"aaxis\":{\"gridcolor\":\"white\",\"linecolor\":\"white\",\"ticks\":\"\"},\"baxis\":{\"gridcolor\":\"white\",\"linecolor\":\"white\",\"ticks\":\"\"},\"caxis\":{\"gridcolor\":\"white\",\"linecolor\":\"white\",\"ticks\":\"\"}},\"coloraxis\":{\"colorbar\":{\"outlinewidth\":0,\"ticks\":\"\"}},\"colorscale\":{\"sequential\":[[0.0,\"#0d0887\"],[0.1111111111111111,\"#46039f\"],[0.2222222222222222,\"#7201a8\"],[0.3333333333333333,\"#9c179e\"],[0.4444444444444444,\"#bd3786\"],[0.5555555555555556,\"#d8576b\"],[0.6666666666666666,\"#ed7953\"],[0.7777777777777778,\"#fb9f3a\"],[0.8888888888888888,\"#fdca26\"],[1.0,\"#f0f921\"]],\"sequentialminus\":[[0.0,\"#0d0887\"],[0.1111111111111111,\"#46039f\"],[0.2222222222222222,\"#7201a8\"],[0.3333333333333333,\"#9c179e\"],[0.4444444444444444,\"#bd3786\"],[0.5555555555555556,\"#d8576b\"],[0.6666666666666666,\"#ed7953\"],[0.7777777777777778,\"#fb9f3a\"],[0.8888888888888888,\"#fdca26\"],[1.0,\"#f0f921\"]],\"diverging\":[[0,\"#8e0152\"],[0.1,\"#c51b7d\"],[0.2,\"#de77ae\"],[0.3,\"#f1b6da\"],[0.4,\"#fde0ef\"],[0.5,\"#f7f7f7\"],[0.6,\"#e6f5d0\"],[0.7,\"#b8e186\"],[0.8,\"#7fbc41\"],[0.9,\"#4d9221\"],[1,\"#276419\"]]},\"xaxis\":{\"gridcolor\":\"white\",\"linecolor\":\"white\",\"ticks\":\"\",\"title\":{\"standoff\":15},\"zerolinecolor\":\"white\",\"automargin\":true,\"zerolinewidth\":2},\"yaxis\":{\"gridcolor\":\"white\",\"linecolor\":\"white\",\"ticks\":\"\",\"title\":{\"standoff\":15},\"zerolinecolor\":\"white\",\"automargin\":true,\"zerolinewidth\":2},\"scene\":{\"xaxis\":{\"backgroundcolor\":\"#E5ECF6\",\"gridcolor\":\"white\",\"linecolor\":\"white\",\"showbackground\":true,\"ticks\":\"\",\"zerolinecolor\":\"white\",\"gridwidth\":2},\"yaxis\":{\"backgroundcolor\":\"#E5ECF6\",\"gridcolor\":\"white\",\"linecolor\":\"white\",\"showbackground\":true,\"ticks\":\"\",\"zerolinecolor\":\"white\",\"gridwidth\":2},\"zaxis\":{\"backgroundcolor\":\"#E5ECF6\",\"gridcolor\":\"white\",\"linecolor\":\"white\",\"showbackground\":true,\"ticks\":\"\",\"zerolinecolor\":\"white\",\"gridwidth\":2}},\"shapedefaults\":{\"line\":{\"color\":\"#2a3f5f\"}},\"annotationdefaults\":{\"arrowcolor\":\"#2a3f5f\",\"arrowhead\":0,\"arrowwidth\":1},\"geo\":{\"bgcolor\":\"white\",\"landcolor\":\"#E5ECF6\",\"subunitcolor\":\"white\",\"showland\":true,\"showlakes\":true,\"lakecolor\":\"white\"},\"title\":{\"x\":0.05},\"mapbox\":{\"style\":\"light\"}}},\"legend\":{\"tracegroupgap\":0},\"margin\":{\"t\":60}},                        {\"responsive\": true}                    ).then(function(){\n",
              "                            \n",
              "var gd = document.getElementById('c88f4cda-ec49-4f7e-a022-b119f1645aa3');\n",
              "var x = new MutationObserver(function (mutations, observer) {{\n",
              "        var display = window.getComputedStyle(gd).display;\n",
              "        if (!display || display === 'none') {{\n",
              "            console.log([gd, 'removed!']);\n",
              "            Plotly.purge(gd);\n",
              "            observer.disconnect();\n",
              "        }}\n",
              "}});\n",
              "\n",
              "// Listen for the removal of the full notebook cells\n",
              "var notebookContainer = gd.closest('#notebook-container');\n",
              "if (notebookContainer) {{\n",
              "    x.observe(notebookContainer, {childList: true});\n",
              "}}\n",
              "\n",
              "// Listen for the clearing of the current output cell\n",
              "var outputEl = gd.closest('.output');\n",
              "if (outputEl) {{\n",
              "    x.observe(outputEl, {childList: true});\n",
              "}}\n",
              "\n",
              "                        })                };                            </script>        </div>\n",
              "</body>\n",
              "</html>"
            ]
          },
          "metadata": {}
        }
      ],
      "source": [
        "fig_tree = px.treemap(data_frame=df,\n",
        "                      path=['MODOPRIN', 'CRITERIOBR'],\n",
        "                      values='FE_VIA')\n",
        "\n",
        "fig_tree.show()"
      ]
    },
    {
      "cell_type": "code",
      "source": [
        "%whos"
      ],
      "metadata": {
        "colab": {
          "base_uri": "https://localhost:8080/"
        },
        "id": "nta5fGYSXjy4",
        "outputId": "f6c44a6a-7173-47bd-9137-896daecfd5c1"
      },
      "id": "nta5fGYSXjy4",
      "execution_count": 16,
      "outputs": [
        {
          "output_type": "stream",
          "name": "stdout",
          "text": [
            "Variable       Type         Data/Info\n",
            "-------------------------------------\n",
            "df             DataFrame           MODOPRIN     FE_VI<...>[183092 rows x 3 columns]\n",
            "fig_sunburst   Figure       Figure({\\n    'data': [{'<...>}, 'template': '...'}\\n})\n",
            "fig_tree       Figure       Figure({\\n    'data': [{'<...>}, 'template': '...'}\\n})\n",
            "pd             module       <module 'pandas' from '/u<...>ages/pandas/__init__.py'>\n",
            "plotly         module       <module 'plotly' from '/u<...>ages/plotly/__init__.py'>\n",
            "px             module       <module 'plotly.express' <...>tly/express/__init__.py'>\n"
          ]
        }
      ]
    },
    {
      "cell_type": "code",
      "source": [],
      "metadata": {
        "id": "mJcIk7TeYmyx"
      },
      "id": "mJcIk7TeYmyx",
      "execution_count": 16,
      "outputs": []
    },
    {
      "cell_type": "code",
      "source": [],
      "metadata": {
        "id": "03meFWPKYpAG"
      },
      "id": "03meFWPKYpAG",
      "execution_count": null,
      "outputs": []
    },
    {
      "cell_type": "code",
      "source": [],
      "metadata": {
        "id": "0CzDE2SyYoyd"
      },
      "id": "0CzDE2SyYoyd",
      "execution_count": null,
      "outputs": []
    }
  ],
  "metadata": {
    "kernelspec": {
      "display_name": "Python 3 (ipykernel)",
      "language": "python",
      "name": "python3"
    },
    "language_info": {
      "codemirror_mode": {
        "name": "ipython",
        "version": 3
      },
      "file_extension": ".py",
      "mimetype": "text/x-python",
      "name": "python",
      "nbconvert_exporter": "python",
      "pygments_lexer": "ipython3",
      "version": "3.9.13"
    },
    "colab": {
      "provenance": []
    }
  },
  "nbformat": 4,
  "nbformat_minor": 5
}