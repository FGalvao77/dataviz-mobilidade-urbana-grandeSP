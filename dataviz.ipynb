{
  "cells": [
    {
      "cell_type": "markdown",
      "id": "da7af8ce-393b-4086-9e18-457faa1e28a7",
      "metadata": {
        "id": "da7af8ce-393b-4086-9e18-457faa1e28a7"
      },
      "source": [
        "<br>\n",
        "\n",
        "<font size=6 color='green'>**Visualização gráfica dos principais modais utilizados como transporte na Grande SP**</font>\n",
        "\n",
        "---\n",
        "---"
      ]
    },
    {
      "cell_type": "markdown",
      "id": "766fd0c0-e40f-43c1-ade7-57fc3f97ce99",
      "metadata": {
        "id": "766fd0c0-e40f-43c1-ade7-57fc3f97ce99"
      },
      "source": [
        "> Atividade prática proposta da matéria: `Visualização Computacional [Semana 6 - UNIVESP]`"
      ]
    },
    {
      "cell_type": "code",
      "execution_count": 1,
      "id": "130f81d7-3f3c-4993-ae30-c35925d07a50",
      "metadata": {
        "colab": {
          "base_uri": "https://localhost:8080/",
          "height": 35
        },
        "id": "130f81d7-3f3c-4993-ae30-c35925d07a50",
        "outputId": "7463656d-6b4a-43e0-c1cf-1c555140ee87"
      },
      "outputs": [
        {
          "data": {
            "text/plain": [
              "'/home/fernandogalvao/Documentos/dataviz-mobilidade-urbana-grandeSP'"
            ]
          },
          "execution_count": 1,
          "metadata": {},
          "output_type": "execute_result"
        }
      ],
      "source": [
        "%pwd"
      ]
    },
    {
      "cell_type": "code",
      "execution_count": 2,
      "id": "o15GUr1dVLMe",
      "metadata": {
        "colab": {
          "base_uri": "https://localhost:8080/"
        },
        "id": "o15GUr1dVLMe",
        "outputId": "d035a4a3-0434-4b8f-ba9a-4e187f69bd45"
      },
      "outputs": [
        {
          "name": "stdout",
          "output_type": "stream",
          "text": [
            "dataset.csv  dataviz.ipynb  README.md  \u001b[0m\u001b[01;34mvenv\u001b[0m/\n"
          ]
        }
      ],
      "source": [
        "%ls"
      ]
    },
    {
      "cell_type": "code",
      "execution_count": 3,
      "id": "3f2fbcbe-1e5a-4e45-8d28-2eca1ef949ad",
      "metadata": {
        "colab": {
          "base_uri": "https://localhost:8080/"
        },
        "id": "3f2fbcbe-1e5a-4e45-8d28-2eca1ef949ad",
        "outputId": "81a97da7-aea6-4aa6-8ffb-97c260012779"
      },
      "outputs": [
        {
          "name": "stdout",
          "output_type": "stream",
          "text": [
            "MODOPRIN,FE_VIA,CRITERIOBR\n",
            "A pe,22.132647,C1\n",
            "A pe,22.132647,C1\n",
            "Metro,18.882487,C1\n",
            "Metro,18.882487,C1\n",
            "Taxi,18.882487,C1\n",
            "A pe,22.132647,C2\n",
            "A pe,22.132647,C2\n",
            "A pe,22.132647,C2\n",
            "A pe,22.132647,C2\n"
          ]
        }
      ],
      "source": [
        "!head dataset.csv"
      ]
    },
    {
      "cell_type": "code",
      "execution_count": 8,
      "id": "cb298c57-9116-4f3a-bc90-a3834f4776c8",
      "metadata": {
        "id": "cb298c57-9116-4f3a-bc90-a3834f4776c8"
      },
      "outputs": [],
      "source": [
        "!pip install -q pandas numpy -U\n",
        "!pip install -q plotly==5.15.0"
      ]
    },
    {
      "cell_type": "code",
      "execution_count": 21,
      "id": "2d5672f0-e3c2-4c7a-a14f-1410d0b8664f",
      "metadata": {
        "id": "2d5672f0-e3c2-4c7a-a14f-1410d0b8664f"
      },
      "outputs": [],
      "source": [
        "import pandas as pd\n",
        "import numpy as np\n",
        "import plotly\n",
        "import plotly.express as px"
      ]
    },
    {
      "cell_type": "code",
      "execution_count": 22,
      "id": "37f2fcdd-1fa7-4cb9-8836-1a03b087b837",
      "metadata": {
        "colab": {
          "base_uri": "https://localhost:8080/"
        },
        "id": "37f2fcdd-1fa7-4cb9-8836-1a03b087b837",
        "outputId": "456eaa1e-a6fc-43f0-e4c8-65d47197e89c"
      },
      "outputs": [
        {
          "name": "stdout",
          "output_type": "stream",
          "text": [
            "\tVERSION\n",
            "=========================\n",
            "Pandas: 2.2.1\n",
            "NumPy: 1.26.4\n",
            "Plotly: 5.15.0\n"
          ]
        }
      ],
      "source": [
        "print(\n",
        "    '\\tVERSION',\n",
        "    '='*25,\n",
        "    f'Pandas: {pd.__version__}',\n",
        "    f'NumPy: {np.__version__}', \n",
        "    f'Plotly: {plotly.__version__}',\n",
        "    sep='\\n'\n",
        ")"
      ]
    },
    {
      "cell_type": "code",
      "execution_count": 23,
      "id": "214e705a-0744-4e0b-b7fd-40e5a1503a52",
      "metadata": {
        "colab": {
          "base_uri": "https://localhost:8080/",
          "height": 206
        },
        "id": "214e705a-0744-4e0b-b7fd-40e5a1503a52",
        "outputId": "46ed5dd3-31c9-4479-d8b6-e07f342275dc"
      },
      "outputs": [
        {
          "data": {
            "text/html": [
              "<div>\n",
              "<style scoped>\n",
              "    .dataframe tbody tr th:only-of-type {\n",
              "        vertical-align: middle;\n",
              "    }\n",
              "\n",
              "    .dataframe tbody tr th {\n",
              "        vertical-align: top;\n",
              "    }\n",
              "\n",
              "    .dataframe thead th {\n",
              "        text-align: right;\n",
              "    }\n",
              "</style>\n",
              "<table border=\"1\" class=\"dataframe\">\n",
              "  <thead>\n",
              "    <tr style=\"text-align: right;\">\n",
              "      <th></th>\n",
              "      <th>MODOPRIN</th>\n",
              "      <th>FE_VIA</th>\n",
              "      <th>CRITERIOBR</th>\n",
              "    </tr>\n",
              "  </thead>\n",
              "  <tbody>\n",
              "    <tr>\n",
              "      <th>0</th>\n",
              "      <td>A pe</td>\n",
              "      <td>22.132647</td>\n",
              "      <td>C1</td>\n",
              "    </tr>\n",
              "    <tr>\n",
              "      <th>1</th>\n",
              "      <td>A pe</td>\n",
              "      <td>22.132647</td>\n",
              "      <td>C1</td>\n",
              "    </tr>\n",
              "    <tr>\n",
              "      <th>2</th>\n",
              "      <td>Metro</td>\n",
              "      <td>18.882487</td>\n",
              "      <td>C1</td>\n",
              "    </tr>\n",
              "    <tr>\n",
              "      <th>3</th>\n",
              "      <td>Metro</td>\n",
              "      <td>18.882487</td>\n",
              "      <td>C1</td>\n",
              "    </tr>\n",
              "    <tr>\n",
              "      <th>4</th>\n",
              "      <td>Taxi</td>\n",
              "      <td>18.882487</td>\n",
              "      <td>C1</td>\n",
              "    </tr>\n",
              "  </tbody>\n",
              "</table>\n",
              "</div>"
            ],
            "text/plain": [
              "  MODOPRIN     FE_VIA CRITERIOBR\n",
              "0     A pe  22.132647         C1\n",
              "1     A pe  22.132647         C1\n",
              "2    Metro  18.882487         C1\n",
              "3    Metro  18.882487         C1\n",
              "4     Taxi  18.882487         C1"
            ]
          },
          "execution_count": 23,
          "metadata": {},
          "output_type": "execute_result"
        }
      ],
      "source": [
        "df = pd.read_csv(filepath_or_buffer='dataset.csv')\n",
        "df.head()"
      ]
    },
    {
      "cell_type": "code",
      "execution_count": 24,
      "id": "8bade80b-899e-462f-8742-cf760bd6aa49",
      "metadata": {
        "colab": {
          "base_uri": "https://localhost:8080/"
        },
        "id": "8bade80b-899e-462f-8742-cf760bd6aa49",
        "outputId": "e9baec3a-4ecd-473d-ffec-46c2e290701d"
      },
      "outputs": [
        {
          "name": "stdout",
          "output_type": "stream",
          "text": [
            "<class 'pandas.core.frame.DataFrame'>\n",
            "RangeIndex: 183092 entries, 0 to 183091\n",
            "Data columns (total 3 columns):\n",
            " #   Column      Non-Null Count   Dtype  \n",
            "---  ------      --------------   -----  \n",
            " 0   MODOPRIN    183092 non-null  object \n",
            " 1   FE_VIA      183092 non-null  float64\n",
            " 2   CRITERIOBR  183092 non-null  object \n",
            "dtypes: float64(1), object(2)\n",
            "memory usage: 4.2+ MB\n"
          ]
        }
      ],
      "source": [
        "df.info()"
      ]
    },
    {
      "cell_type": "code",
      "execution_count": 25,
      "id": "0622c74c-2e7b-4832-8b9e-5ed24ab2db2e",
      "metadata": {
        "id": "0622c74c-2e7b-4832-8b9e-5ed24ab2db2e"
      },
      "outputs": [
        {
          "name": "stdout",
          "output_type": "stream",
          "text": [
            "\u001b[0;31mSignature:\u001b[0m\n",
            "\u001b[0mpx\u001b[0m\u001b[0;34m.\u001b[0m\u001b[0msunburst\u001b[0m\u001b[0;34m(\u001b[0m\u001b[0;34m\u001b[0m\n",
            "\u001b[0;34m\u001b[0m    \u001b[0mdata_frame\u001b[0m\u001b[0;34m=\u001b[0m\u001b[0;32mNone\u001b[0m\u001b[0;34m,\u001b[0m\u001b[0;34m\u001b[0m\n",
            "\u001b[0;34m\u001b[0m    \u001b[0mnames\u001b[0m\u001b[0;34m=\u001b[0m\u001b[0;32mNone\u001b[0m\u001b[0;34m,\u001b[0m\u001b[0;34m\u001b[0m\n",
            "\u001b[0;34m\u001b[0m    \u001b[0mvalues\u001b[0m\u001b[0;34m=\u001b[0m\u001b[0;32mNone\u001b[0m\u001b[0;34m,\u001b[0m\u001b[0;34m\u001b[0m\n",
            "\u001b[0;34m\u001b[0m    \u001b[0mparents\u001b[0m\u001b[0;34m=\u001b[0m\u001b[0;32mNone\u001b[0m\u001b[0;34m,\u001b[0m\u001b[0;34m\u001b[0m\n",
            "\u001b[0;34m\u001b[0m    \u001b[0mpath\u001b[0m\u001b[0;34m=\u001b[0m\u001b[0;32mNone\u001b[0m\u001b[0;34m,\u001b[0m\u001b[0;34m\u001b[0m\n",
            "\u001b[0;34m\u001b[0m    \u001b[0mids\u001b[0m\u001b[0;34m=\u001b[0m\u001b[0;32mNone\u001b[0m\u001b[0;34m,\u001b[0m\u001b[0;34m\u001b[0m\n",
            "\u001b[0;34m\u001b[0m    \u001b[0mcolor\u001b[0m\u001b[0;34m=\u001b[0m\u001b[0;32mNone\u001b[0m\u001b[0;34m,\u001b[0m\u001b[0;34m\u001b[0m\n",
            "\u001b[0;34m\u001b[0m    \u001b[0mcolor_continuous_scale\u001b[0m\u001b[0;34m=\u001b[0m\u001b[0;32mNone\u001b[0m\u001b[0;34m,\u001b[0m\u001b[0;34m\u001b[0m\n",
            "\u001b[0;34m\u001b[0m    \u001b[0mrange_color\u001b[0m\u001b[0;34m=\u001b[0m\u001b[0;32mNone\u001b[0m\u001b[0;34m,\u001b[0m\u001b[0;34m\u001b[0m\n",
            "\u001b[0;34m\u001b[0m    \u001b[0mcolor_continuous_midpoint\u001b[0m\u001b[0;34m=\u001b[0m\u001b[0;32mNone\u001b[0m\u001b[0;34m,\u001b[0m\u001b[0;34m\u001b[0m\n",
            "\u001b[0;34m\u001b[0m    \u001b[0mcolor_discrete_sequence\u001b[0m\u001b[0;34m=\u001b[0m\u001b[0;32mNone\u001b[0m\u001b[0;34m,\u001b[0m\u001b[0;34m\u001b[0m\n",
            "\u001b[0;34m\u001b[0m    \u001b[0mcolor_discrete_map\u001b[0m\u001b[0;34m=\u001b[0m\u001b[0;32mNone\u001b[0m\u001b[0;34m,\u001b[0m\u001b[0;34m\u001b[0m\n",
            "\u001b[0;34m\u001b[0m    \u001b[0mhover_name\u001b[0m\u001b[0;34m=\u001b[0m\u001b[0;32mNone\u001b[0m\u001b[0;34m,\u001b[0m\u001b[0;34m\u001b[0m\n",
            "\u001b[0;34m\u001b[0m    \u001b[0mhover_data\u001b[0m\u001b[0;34m=\u001b[0m\u001b[0;32mNone\u001b[0m\u001b[0;34m,\u001b[0m\u001b[0;34m\u001b[0m\n",
            "\u001b[0;34m\u001b[0m    \u001b[0mcustom_data\u001b[0m\u001b[0;34m=\u001b[0m\u001b[0;32mNone\u001b[0m\u001b[0;34m,\u001b[0m\u001b[0;34m\u001b[0m\n",
            "\u001b[0;34m\u001b[0m    \u001b[0mlabels\u001b[0m\u001b[0;34m=\u001b[0m\u001b[0;32mNone\u001b[0m\u001b[0;34m,\u001b[0m\u001b[0;34m\u001b[0m\n",
            "\u001b[0;34m\u001b[0m    \u001b[0mtitle\u001b[0m\u001b[0;34m=\u001b[0m\u001b[0;32mNone\u001b[0m\u001b[0;34m,\u001b[0m\u001b[0;34m\u001b[0m\n",
            "\u001b[0;34m\u001b[0m    \u001b[0mtemplate\u001b[0m\u001b[0;34m=\u001b[0m\u001b[0;32mNone\u001b[0m\u001b[0;34m,\u001b[0m\u001b[0;34m\u001b[0m\n",
            "\u001b[0;34m\u001b[0m    \u001b[0mwidth\u001b[0m\u001b[0;34m=\u001b[0m\u001b[0;32mNone\u001b[0m\u001b[0;34m,\u001b[0m\u001b[0;34m\u001b[0m\n",
            "\u001b[0;34m\u001b[0m    \u001b[0mheight\u001b[0m\u001b[0;34m=\u001b[0m\u001b[0;32mNone\u001b[0m\u001b[0;34m,\u001b[0m\u001b[0;34m\u001b[0m\n",
            "\u001b[0;34m\u001b[0m    \u001b[0mbranchvalues\u001b[0m\u001b[0;34m=\u001b[0m\u001b[0;32mNone\u001b[0m\u001b[0;34m,\u001b[0m\u001b[0;34m\u001b[0m\n",
            "\u001b[0;34m\u001b[0m    \u001b[0mmaxdepth\u001b[0m\u001b[0;34m=\u001b[0m\u001b[0;32mNone\u001b[0m\u001b[0;34m,\u001b[0m\u001b[0;34m\u001b[0m\n",
            "\u001b[0;34m\u001b[0m\u001b[0;34m)\u001b[0m \u001b[0;34m->\u001b[0m \u001b[0mplotly\u001b[0m\u001b[0;34m.\u001b[0m\u001b[0mgraph_objs\u001b[0m\u001b[0;34m.\u001b[0m\u001b[0m_figure\u001b[0m\u001b[0;34m.\u001b[0m\u001b[0mFigure\u001b[0m\u001b[0;34m\u001b[0m\u001b[0;34m\u001b[0m\u001b[0m\n",
            "\u001b[0;31mDocstring:\u001b[0m\n",
            "    A sunburst plot represents hierarchial data as sectors laid out over\n",
            "    several levels of concentric rings.\n",
            "    \n",
            "Parameters\n",
            "----------\n",
            "data_frame: DataFrame or array-like or dict\n",
            "    This argument needs to be passed for column names (and not keyword\n",
            "    names) to be used. Array-like and dict are transformed internally to a\n",
            "    pandas DataFrame. Optional: if missing, a DataFrame gets constructed\n",
            "    under the hood using the other arguments.\n",
            "names: str or int or Series or array-like\n",
            "    Either a name of a column in `data_frame`, or a pandas Series or\n",
            "    array_like object. Values from this column or array_like are used as\n",
            "    labels for sectors.\n",
            "values: str or int or Series or array-like\n",
            "    Either a name of a column in `data_frame`, or a pandas Series or\n",
            "    array_like object. Values from this column or array_like are used to\n",
            "    set values associated to sectors.\n",
            "parents: str or int or Series or array-like\n",
            "    Either a name of a column in `data_frame`, or a pandas Series or\n",
            "    array_like object. Values from this column or array_like are used as\n",
            "    parents in sunburst and treemap charts.\n",
            "path: list of str or int, or Series or array-like\n",
            "    Either names of columns in `data_frame`, or pandas Series, or\n",
            "    array_like objects List of columns names or columns of a rectangular\n",
            "    dataframe defining the hierarchy of sectors, from root to leaves. An\n",
            "    error is raised if path AND ids or parents is passed\n",
            "ids: str or int or Series or array-like\n",
            "    Either a name of a column in `data_frame`, or a pandas Series or\n",
            "    array_like object. Values from this column or array_like are used to\n",
            "    set ids of sectors\n",
            "color: str or int or Series or array-like\n",
            "    Either a name of a column in `data_frame`, or a pandas Series or\n",
            "    array_like object. Values from this column or array_like are used to\n",
            "    assign color to marks.\n",
            "color_continuous_scale: list of str\n",
            "    Strings should define valid CSS-colors This list is used to build a\n",
            "    continuous color scale when the column denoted by `color` contains\n",
            "    numeric data. Various useful color scales are available in the\n",
            "    `plotly.express.colors` submodules, specifically\n",
            "    `plotly.express.colors.sequential`, `plotly.express.colors.diverging`\n",
            "    and `plotly.express.colors.cyclical`.\n",
            "range_color: list of two numbers\n",
            "    If provided, overrides auto-scaling on the continuous color scale.\n",
            "color_continuous_midpoint: number (default `None`)\n",
            "    If set, computes the bounds of the continuous color scale to have the\n",
            "    desired midpoint. Setting this value is recommended when using\n",
            "    `plotly.express.colors.diverging` color scales as the inputs to\n",
            "    `color_continuous_scale`.\n",
            "color_discrete_sequence: list of str\n",
            "    Strings should define valid CSS-colors. When `color` is set and the\n",
            "    values in the corresponding column are not numeric, values in that\n",
            "    column are assigned colors by cycling through `color_discrete_sequence`\n",
            "    in the order described in `category_orders`, unless the value of\n",
            "    `color` is a key in `color_discrete_map`. Various useful color\n",
            "    sequences are available in the `plotly.express.colors` submodules,\n",
            "    specifically `plotly.express.colors.qualitative`.\n",
            "color_discrete_map: dict with str keys and str values (default `{}`)\n",
            "    String values should define valid CSS-colors Used to override\n",
            "    `color_discrete_sequence` to assign a specific colors to marks\n",
            "    corresponding with specific values. Keys in `color_discrete_map` should\n",
            "    be values in the column denoted by `color`. Alternatively, if the\n",
            "    values of `color` are valid colors, the string `'identity'` may be\n",
            "    passed to cause them to be used directly.\n",
            "hover_name: str or int or Series or array-like\n",
            "    Either a name of a column in `data_frame`, or a pandas Series or\n",
            "    array_like object. Values from this column or array_like appear in bold\n",
            "    in the hover tooltip.\n",
            "hover_data: str, or list of str or int, or Series or array-like, or dict\n",
            "    Either a name or list of names of columns in `data_frame`, or pandas\n",
            "    Series, or array_like objects or a dict with column names as keys, with\n",
            "    values True (for default formatting) False (in order to remove this\n",
            "    column from hover information), or a formatting string, for example\n",
            "    ':.3f' or '|%a' or list-like data to appear in the hover tooltip or\n",
            "    tuples with a bool or formatting string as first element, and list-like\n",
            "    data to appear in hover as second element Values from these columns\n",
            "    appear as extra data in the hover tooltip.\n",
            "custom_data: str, or list of str or int, or Series or array-like\n",
            "    Either name or list of names of columns in `data_frame`, or pandas\n",
            "    Series, or array_like objects Values from these columns are extra data,\n",
            "    to be used in widgets or Dash callbacks for example. This data is not\n",
            "    user-visible but is included in events emitted by the figure (lasso\n",
            "    selection etc.)\n",
            "labels: dict with str keys and str values (default `{}`)\n",
            "    By default, column names are used in the figure for axis titles, legend\n",
            "    entries and hovers. This parameter allows this to be overridden. The\n",
            "    keys of this dict should correspond to column names, and the values\n",
            "    should correspond to the desired label to be displayed.\n",
            "title: str\n",
            "    The figure title.\n",
            "template: str or dict or plotly.graph_objects.layout.Template instance\n",
            "    The figure template name (must be a key in plotly.io.templates) or\n",
            "    definition.\n",
            "width: int (default `None`)\n",
            "    The figure width in pixels.\n",
            "height: int (default `None`)\n",
            "    The figure height in pixels.\n",
            "branchvalues: str\n",
            "    'total' or 'remainder' Determines how the items in `values` are summed.\n",
            "    Whenset to 'total', items in `values` are taken to be valueof all its\n",
            "    descendants. When set to 'remainder', itemsin `values` corresponding to\n",
            "    the root and the branches:sectors are taken to be the extra part not\n",
            "    part of thesum of the values at their leaves.\n",
            "maxdepth: int\n",
            "    Positive integer Sets the number of rendered sectors from any given\n",
            "    `level`. Set `maxdepth` to -1 to render all thelevels in the hierarchy.\n",
            "\n",
            "Returns\n",
            "-------\n",
            "    plotly.graph_objects.Figure\n",
            "\u001b[0;31mFile:\u001b[0m      ~/Documentos/dataviz-mobilidade-urbana-grandeSP/venv/lib/python3.9/site-packages/plotly/express/_chart_types.py\n",
            "\u001b[0;31mType:\u001b[0m      function"
          ]
        }
      ],
      "source": [
        "?px.sunburst"
      ]
    },
    {
      "cell_type": "code",
      "execution_count": 26,
      "id": "1eac6c60-b891-4130-9fe2-797730098a9a",
      "metadata": {
        "colab": {
          "base_uri": "https://localhost:8080/",
          "height": 542
        },
        "id": "1eac6c60-b891-4130-9fe2-797730098a9a",
        "outputId": "07f54cc7-359d-4c50-f4f8-3c76088d90d1"
      },
      "outputs": [
        {
          "ename": "ValueError",
          "evalue": "Mime type rendering requires nbformat>=4.2.0 but it is not installed",
          "output_type": "error",
          "traceback": [
            "\u001b[0;31m---------------------------------------------------------------------------\u001b[0m",
            "\u001b[0;31mValueError\u001b[0m                                Traceback (most recent call last)",
            "Cell \u001b[0;32mIn[26], line 6\u001b[0m\n\u001b[1;32m      1\u001b[0m fig_sunburst \u001b[38;5;241m=\u001b[39m px\u001b[38;5;241m.\u001b[39msunburst(data_frame\u001b[38;5;241m=\u001b[39mdf,\n\u001b[1;32m      2\u001b[0m                            path\u001b[38;5;241m=\u001b[39m[\u001b[38;5;124m'\u001b[39m\u001b[38;5;124mMODOPRIN\u001b[39m\u001b[38;5;124m'\u001b[39m, \u001b[38;5;124m'\u001b[39m\u001b[38;5;124mCRITERIOBR\u001b[39m\u001b[38;5;124m'\u001b[39m],\n\u001b[1;32m      3\u001b[0m                            values\u001b[38;5;241m=\u001b[39m\u001b[38;5;124m'\u001b[39m\u001b[38;5;124mFE_VIA\u001b[39m\u001b[38;5;124m'\u001b[39m)\n\u001b[0;32m----> 6\u001b[0m \u001b[43mfig_sunburst\u001b[49m\u001b[38;5;241;43m.\u001b[39;49m\u001b[43mshow\u001b[49m\u001b[43m(\u001b[49m\u001b[43m)\u001b[49m\n",
            "File \u001b[0;32m~/Documentos/dataviz-mobilidade-urbana-grandeSP/venv/lib/python3.9/site-packages/plotly/basedatatypes.py:3409\u001b[0m, in \u001b[0;36mBaseFigure.show\u001b[0;34m(self, *args, **kwargs)\u001b[0m\n\u001b[1;32m   3376\u001b[0m \u001b[38;5;250m\u001b[39m\u001b[38;5;124;03m\"\"\"\u001b[39;00m\n\u001b[1;32m   3377\u001b[0m \u001b[38;5;124;03mShow a figure using either the default renderer(s) or the renderer(s)\u001b[39;00m\n\u001b[1;32m   3378\u001b[0m \u001b[38;5;124;03mspecified by the renderer argument\u001b[39;00m\n\u001b[0;32m   (...)\u001b[0m\n\u001b[1;32m   3405\u001b[0m \u001b[38;5;124;03mNone\u001b[39;00m\n\u001b[1;32m   3406\u001b[0m \u001b[38;5;124;03m\"\"\"\u001b[39;00m\n\u001b[1;32m   3407\u001b[0m \u001b[38;5;28;01mimport\u001b[39;00m \u001b[38;5;21;01mplotly\u001b[39;00m\u001b[38;5;21;01m.\u001b[39;00m\u001b[38;5;21;01mio\u001b[39;00m \u001b[38;5;28;01mas\u001b[39;00m \u001b[38;5;21;01mpio\u001b[39;00m\n\u001b[0;32m-> 3409\u001b[0m \u001b[38;5;28;01mreturn\u001b[39;00m \u001b[43mpio\u001b[49m\u001b[38;5;241;43m.\u001b[39;49m\u001b[43mshow\u001b[49m\u001b[43m(\u001b[49m\u001b[38;5;28;43mself\u001b[39;49m\u001b[43m,\u001b[49m\u001b[43m \u001b[49m\u001b[38;5;241;43m*\u001b[39;49m\u001b[43margs\u001b[49m\u001b[43m,\u001b[49m\u001b[43m \u001b[49m\u001b[38;5;241;43m*\u001b[39;49m\u001b[38;5;241;43m*\u001b[39;49m\u001b[43mkwargs\u001b[49m\u001b[43m)\u001b[49m\n",
            "File \u001b[0;32m~/Documentos/dataviz-mobilidade-urbana-grandeSP/venv/lib/python3.9/site-packages/plotly/io/_renderers.py:396\u001b[0m, in \u001b[0;36mshow\u001b[0;34m(fig, renderer, validate, **kwargs)\u001b[0m\n\u001b[1;32m    391\u001b[0m         \u001b[38;5;28;01mraise\u001b[39;00m \u001b[38;5;167;01mValueError\u001b[39;00m(\n\u001b[1;32m    392\u001b[0m             \u001b[38;5;124m\"\u001b[39m\u001b[38;5;124mMime type rendering requires ipython but it is not installed\u001b[39m\u001b[38;5;124m\"\u001b[39m\n\u001b[1;32m    393\u001b[0m         )\n\u001b[1;32m    395\u001b[0m     \u001b[38;5;28;01mif\u001b[39;00m \u001b[38;5;129;01mnot\u001b[39;00m nbformat \u001b[38;5;129;01mor\u001b[39;00m Version(nbformat\u001b[38;5;241m.\u001b[39m__version__) \u001b[38;5;241m<\u001b[39m Version(\u001b[38;5;124m\"\u001b[39m\u001b[38;5;124m4.2.0\u001b[39m\u001b[38;5;124m\"\u001b[39m):\n\u001b[0;32m--> 396\u001b[0m         \u001b[38;5;28;01mraise\u001b[39;00m \u001b[38;5;167;01mValueError\u001b[39;00m(\n\u001b[1;32m    397\u001b[0m             \u001b[38;5;124m\"\u001b[39m\u001b[38;5;124mMime type rendering requires nbformat>=4.2.0 but it is not installed\u001b[39m\u001b[38;5;124m\"\u001b[39m\n\u001b[1;32m    398\u001b[0m         )\n\u001b[1;32m    400\u001b[0m     ipython_display\u001b[38;5;241m.\u001b[39mdisplay(bundle, raw\u001b[38;5;241m=\u001b[39m\u001b[38;5;28;01mTrue\u001b[39;00m)\n\u001b[1;32m    402\u001b[0m \u001b[38;5;66;03m# external renderers\u001b[39;00m\n",
            "\u001b[0;31mValueError\u001b[0m: Mime type rendering requires nbformat>=4.2.0 but it is not installed"
          ]
        }
      ],
      "source": [
        "fig_sunburst = px.sunburst(data_frame=df,\n",
        "                           path=['MODOPRIN', 'CRITERIOBR'],\n",
        "                           values='FE_VIA')\n",
        "\n",
        "\n",
        "fig_sunburst.show()"
      ]
    },
    {
      "cell_type": "code",
      "execution_count": 27,
      "id": "r9Sw9hKKXqCg",
      "metadata": {
        "id": "r9Sw9hKKXqCg"
      },
      "outputs": [
        {
          "name": "stdout",
          "output_type": "stream",
          "text": [
            "\u001b[0;31mSignature:\u001b[0m\n",
            "\u001b[0mpx\u001b[0m\u001b[0;34m.\u001b[0m\u001b[0mtreemap\u001b[0m\u001b[0;34m(\u001b[0m\u001b[0;34m\u001b[0m\n",
            "\u001b[0;34m\u001b[0m    \u001b[0mdata_frame\u001b[0m\u001b[0;34m=\u001b[0m\u001b[0;32mNone\u001b[0m\u001b[0;34m,\u001b[0m\u001b[0;34m\u001b[0m\n",
            "\u001b[0;34m\u001b[0m    \u001b[0mnames\u001b[0m\u001b[0;34m=\u001b[0m\u001b[0;32mNone\u001b[0m\u001b[0;34m,\u001b[0m\u001b[0;34m\u001b[0m\n",
            "\u001b[0;34m\u001b[0m    \u001b[0mvalues\u001b[0m\u001b[0;34m=\u001b[0m\u001b[0;32mNone\u001b[0m\u001b[0;34m,\u001b[0m\u001b[0;34m\u001b[0m\n",
            "\u001b[0;34m\u001b[0m    \u001b[0mparents\u001b[0m\u001b[0;34m=\u001b[0m\u001b[0;32mNone\u001b[0m\u001b[0;34m,\u001b[0m\u001b[0;34m\u001b[0m\n",
            "\u001b[0;34m\u001b[0m    \u001b[0mids\u001b[0m\u001b[0;34m=\u001b[0m\u001b[0;32mNone\u001b[0m\u001b[0;34m,\u001b[0m\u001b[0;34m\u001b[0m\n",
            "\u001b[0;34m\u001b[0m    \u001b[0mpath\u001b[0m\u001b[0;34m=\u001b[0m\u001b[0;32mNone\u001b[0m\u001b[0;34m,\u001b[0m\u001b[0;34m\u001b[0m\n",
            "\u001b[0;34m\u001b[0m    \u001b[0mcolor\u001b[0m\u001b[0;34m=\u001b[0m\u001b[0;32mNone\u001b[0m\u001b[0;34m,\u001b[0m\u001b[0;34m\u001b[0m\n",
            "\u001b[0;34m\u001b[0m    \u001b[0mcolor_continuous_scale\u001b[0m\u001b[0;34m=\u001b[0m\u001b[0;32mNone\u001b[0m\u001b[0;34m,\u001b[0m\u001b[0;34m\u001b[0m\n",
            "\u001b[0;34m\u001b[0m    \u001b[0mrange_color\u001b[0m\u001b[0;34m=\u001b[0m\u001b[0;32mNone\u001b[0m\u001b[0;34m,\u001b[0m\u001b[0;34m\u001b[0m\n",
            "\u001b[0;34m\u001b[0m    \u001b[0mcolor_continuous_midpoint\u001b[0m\u001b[0;34m=\u001b[0m\u001b[0;32mNone\u001b[0m\u001b[0;34m,\u001b[0m\u001b[0;34m\u001b[0m\n",
            "\u001b[0;34m\u001b[0m    \u001b[0mcolor_discrete_sequence\u001b[0m\u001b[0;34m=\u001b[0m\u001b[0;32mNone\u001b[0m\u001b[0;34m,\u001b[0m\u001b[0;34m\u001b[0m\n",
            "\u001b[0;34m\u001b[0m    \u001b[0mcolor_discrete_map\u001b[0m\u001b[0;34m=\u001b[0m\u001b[0;32mNone\u001b[0m\u001b[0;34m,\u001b[0m\u001b[0;34m\u001b[0m\n",
            "\u001b[0;34m\u001b[0m    \u001b[0mhover_name\u001b[0m\u001b[0;34m=\u001b[0m\u001b[0;32mNone\u001b[0m\u001b[0;34m,\u001b[0m\u001b[0;34m\u001b[0m\n",
            "\u001b[0;34m\u001b[0m    \u001b[0mhover_data\u001b[0m\u001b[0;34m=\u001b[0m\u001b[0;32mNone\u001b[0m\u001b[0;34m,\u001b[0m\u001b[0;34m\u001b[0m\n",
            "\u001b[0;34m\u001b[0m    \u001b[0mcustom_data\u001b[0m\u001b[0;34m=\u001b[0m\u001b[0;32mNone\u001b[0m\u001b[0;34m,\u001b[0m\u001b[0;34m\u001b[0m\n",
            "\u001b[0;34m\u001b[0m    \u001b[0mlabels\u001b[0m\u001b[0;34m=\u001b[0m\u001b[0;32mNone\u001b[0m\u001b[0;34m,\u001b[0m\u001b[0;34m\u001b[0m\n",
            "\u001b[0;34m\u001b[0m    \u001b[0mtitle\u001b[0m\u001b[0;34m=\u001b[0m\u001b[0;32mNone\u001b[0m\u001b[0;34m,\u001b[0m\u001b[0;34m\u001b[0m\n",
            "\u001b[0;34m\u001b[0m    \u001b[0mtemplate\u001b[0m\u001b[0;34m=\u001b[0m\u001b[0;32mNone\u001b[0m\u001b[0;34m,\u001b[0m\u001b[0;34m\u001b[0m\n",
            "\u001b[0;34m\u001b[0m    \u001b[0mwidth\u001b[0m\u001b[0;34m=\u001b[0m\u001b[0;32mNone\u001b[0m\u001b[0;34m,\u001b[0m\u001b[0;34m\u001b[0m\n",
            "\u001b[0;34m\u001b[0m    \u001b[0mheight\u001b[0m\u001b[0;34m=\u001b[0m\u001b[0;32mNone\u001b[0m\u001b[0;34m,\u001b[0m\u001b[0;34m\u001b[0m\n",
            "\u001b[0;34m\u001b[0m    \u001b[0mbranchvalues\u001b[0m\u001b[0;34m=\u001b[0m\u001b[0;32mNone\u001b[0m\u001b[0;34m,\u001b[0m\u001b[0;34m\u001b[0m\n",
            "\u001b[0;34m\u001b[0m    \u001b[0mmaxdepth\u001b[0m\u001b[0;34m=\u001b[0m\u001b[0;32mNone\u001b[0m\u001b[0;34m,\u001b[0m\u001b[0;34m\u001b[0m\n",
            "\u001b[0;34m\u001b[0m\u001b[0;34m)\u001b[0m \u001b[0;34m->\u001b[0m \u001b[0mplotly\u001b[0m\u001b[0;34m.\u001b[0m\u001b[0mgraph_objs\u001b[0m\u001b[0;34m.\u001b[0m\u001b[0m_figure\u001b[0m\u001b[0;34m.\u001b[0m\u001b[0mFigure\u001b[0m\u001b[0;34m\u001b[0m\u001b[0;34m\u001b[0m\u001b[0m\n",
            "\u001b[0;31mDocstring:\u001b[0m\n",
            "    A treemap plot represents hierarchial data as nested rectangular\n",
            "    sectors.\n",
            "    \n",
            "Parameters\n",
            "----------\n",
            "data_frame: DataFrame or array-like or dict\n",
            "    This argument needs to be passed for column names (and not keyword\n",
            "    names) to be used. Array-like and dict are transformed internally to a\n",
            "    pandas DataFrame. Optional: if missing, a DataFrame gets constructed\n",
            "    under the hood using the other arguments.\n",
            "names: str or int or Series or array-like\n",
            "    Either a name of a column in `data_frame`, or a pandas Series or\n",
            "    array_like object. Values from this column or array_like are used as\n",
            "    labels for sectors.\n",
            "values: str or int or Series or array-like\n",
            "    Either a name of a column in `data_frame`, or a pandas Series or\n",
            "    array_like object. Values from this column or array_like are used to\n",
            "    set values associated to sectors.\n",
            "parents: str or int or Series or array-like\n",
            "    Either a name of a column in `data_frame`, or a pandas Series or\n",
            "    array_like object. Values from this column or array_like are used as\n",
            "    parents in sunburst and treemap charts.\n",
            "ids: str or int or Series or array-like\n",
            "    Either a name of a column in `data_frame`, or a pandas Series or\n",
            "    array_like object. Values from this column or array_like are used to\n",
            "    set ids of sectors\n",
            "path: list of str or int, or Series or array-like\n",
            "    Either names of columns in `data_frame`, or pandas Series, or\n",
            "    array_like objects List of columns names or columns of a rectangular\n",
            "    dataframe defining the hierarchy of sectors, from root to leaves. An\n",
            "    error is raised if path AND ids or parents is passed\n",
            "color: str or int or Series or array-like\n",
            "    Either a name of a column in `data_frame`, or a pandas Series or\n",
            "    array_like object. Values from this column or array_like are used to\n",
            "    assign color to marks.\n",
            "color_continuous_scale: list of str\n",
            "    Strings should define valid CSS-colors This list is used to build a\n",
            "    continuous color scale when the column denoted by `color` contains\n",
            "    numeric data. Various useful color scales are available in the\n",
            "    `plotly.express.colors` submodules, specifically\n",
            "    `plotly.express.colors.sequential`, `plotly.express.colors.diverging`\n",
            "    and `plotly.express.colors.cyclical`.\n",
            "range_color: list of two numbers\n",
            "    If provided, overrides auto-scaling on the continuous color scale.\n",
            "color_continuous_midpoint: number (default `None`)\n",
            "    If set, computes the bounds of the continuous color scale to have the\n",
            "    desired midpoint. Setting this value is recommended when using\n",
            "    `plotly.express.colors.diverging` color scales as the inputs to\n",
            "    `color_continuous_scale`.\n",
            "color_discrete_sequence: list of str\n",
            "    Strings should define valid CSS-colors. When `color` is set and the\n",
            "    values in the corresponding column are not numeric, values in that\n",
            "    column are assigned colors by cycling through `color_discrete_sequence`\n",
            "    in the order described in `category_orders`, unless the value of\n",
            "    `color` is a key in `color_discrete_map`. Various useful color\n",
            "    sequences are available in the `plotly.express.colors` submodules,\n",
            "    specifically `plotly.express.colors.qualitative`.\n",
            "color_discrete_map: dict with str keys and str values (default `{}`)\n",
            "    String values should define valid CSS-colors Used to override\n",
            "    `color_discrete_sequence` to assign a specific colors to marks\n",
            "    corresponding with specific values. Keys in `color_discrete_map` should\n",
            "    be values in the column denoted by `color`. Alternatively, if the\n",
            "    values of `color` are valid colors, the string `'identity'` may be\n",
            "    passed to cause them to be used directly.\n",
            "hover_name: str or int or Series or array-like\n",
            "    Either a name of a column in `data_frame`, or a pandas Series or\n",
            "    array_like object. Values from this column or array_like appear in bold\n",
            "    in the hover tooltip.\n",
            "hover_data: str, or list of str or int, or Series or array-like, or dict\n",
            "    Either a name or list of names of columns in `data_frame`, or pandas\n",
            "    Series, or array_like objects or a dict with column names as keys, with\n",
            "    values True (for default formatting) False (in order to remove this\n",
            "    column from hover information), or a formatting string, for example\n",
            "    ':.3f' or '|%a' or list-like data to appear in the hover tooltip or\n",
            "    tuples with a bool or formatting string as first element, and list-like\n",
            "    data to appear in hover as second element Values from these columns\n",
            "    appear as extra data in the hover tooltip.\n",
            "custom_data: str, or list of str or int, or Series or array-like\n",
            "    Either name or list of names of columns in `data_frame`, or pandas\n",
            "    Series, or array_like objects Values from these columns are extra data,\n",
            "    to be used in widgets or Dash callbacks for example. This data is not\n",
            "    user-visible but is included in events emitted by the figure (lasso\n",
            "    selection etc.)\n",
            "labels: dict with str keys and str values (default `{}`)\n",
            "    By default, column names are used in the figure for axis titles, legend\n",
            "    entries and hovers. This parameter allows this to be overridden. The\n",
            "    keys of this dict should correspond to column names, and the values\n",
            "    should correspond to the desired label to be displayed.\n",
            "title: str\n",
            "    The figure title.\n",
            "template: str or dict or plotly.graph_objects.layout.Template instance\n",
            "    The figure template name (must be a key in plotly.io.templates) or\n",
            "    definition.\n",
            "width: int (default `None`)\n",
            "    The figure width in pixels.\n",
            "height: int (default `None`)\n",
            "    The figure height in pixels.\n",
            "branchvalues: str\n",
            "    'total' or 'remainder' Determines how the items in `values` are summed.\n",
            "    Whenset to 'total', items in `values` are taken to be valueof all its\n",
            "    descendants. When set to 'remainder', itemsin `values` corresponding to\n",
            "    the root and the branches:sectors are taken to be the extra part not\n",
            "    part of thesum of the values at their leaves.\n",
            "maxdepth: int\n",
            "    Positive integer Sets the number of rendered sectors from any given\n",
            "    `level`. Set `maxdepth` to -1 to render all thelevels in the hierarchy.\n",
            "\n",
            "Returns\n",
            "-------\n",
            "    plotly.graph_objects.Figure\n",
            "\u001b[0;31mFile:\u001b[0m      ~/Documentos/dataviz-mobilidade-urbana-grandeSP/venv/lib/python3.9/site-packages/plotly/express/_chart_types.py\n",
            "\u001b[0;31mType:\u001b[0m      function"
          ]
        }
      ],
      "source": [
        "?px.treemap"
      ]
    },
    {
      "cell_type": "code",
      "execution_count": 28,
      "id": "e075debf-51d8-41ac-afd6-97a993748465",
      "metadata": {
        "colab": {
          "base_uri": "https://localhost:8080/",
          "height": 542
        },
        "id": "e075debf-51d8-41ac-afd6-97a993748465",
        "outputId": "914b8c65-1004-4e19-c087-b903b5db1458"
      },
      "outputs": [
        {
          "ename": "ValueError",
          "evalue": "Mime type rendering requires nbformat>=4.2.0 but it is not installed",
          "output_type": "error",
          "traceback": [
            "\u001b[0;31m---------------------------------------------------------------------------\u001b[0m",
            "\u001b[0;31mValueError\u001b[0m                                Traceback (most recent call last)",
            "Cell \u001b[0;32mIn[28], line 5\u001b[0m\n\u001b[1;32m      1\u001b[0m fig_tree \u001b[38;5;241m=\u001b[39m px\u001b[38;5;241m.\u001b[39mtreemap(data_frame\u001b[38;5;241m=\u001b[39mdf,\n\u001b[1;32m      2\u001b[0m                       path\u001b[38;5;241m=\u001b[39m[\u001b[38;5;124m'\u001b[39m\u001b[38;5;124mMODOPRIN\u001b[39m\u001b[38;5;124m'\u001b[39m, \u001b[38;5;124m'\u001b[39m\u001b[38;5;124mCRITERIOBR\u001b[39m\u001b[38;5;124m'\u001b[39m],\n\u001b[1;32m      3\u001b[0m                       values\u001b[38;5;241m=\u001b[39m\u001b[38;5;124m'\u001b[39m\u001b[38;5;124mFE_VIA\u001b[39m\u001b[38;5;124m'\u001b[39m)\n\u001b[0;32m----> 5\u001b[0m \u001b[43mfig_tree\u001b[49m\u001b[38;5;241;43m.\u001b[39;49m\u001b[43mshow\u001b[49m\u001b[43m(\u001b[49m\u001b[43m)\u001b[49m\n",
            "File \u001b[0;32m~/Documentos/dataviz-mobilidade-urbana-grandeSP/venv/lib/python3.9/site-packages/plotly/basedatatypes.py:3409\u001b[0m, in \u001b[0;36mBaseFigure.show\u001b[0;34m(self, *args, **kwargs)\u001b[0m\n\u001b[1;32m   3376\u001b[0m \u001b[38;5;250m\u001b[39m\u001b[38;5;124;03m\"\"\"\u001b[39;00m\n\u001b[1;32m   3377\u001b[0m \u001b[38;5;124;03mShow a figure using either the default renderer(s) or the renderer(s)\u001b[39;00m\n\u001b[1;32m   3378\u001b[0m \u001b[38;5;124;03mspecified by the renderer argument\u001b[39;00m\n\u001b[0;32m   (...)\u001b[0m\n\u001b[1;32m   3405\u001b[0m \u001b[38;5;124;03mNone\u001b[39;00m\n\u001b[1;32m   3406\u001b[0m \u001b[38;5;124;03m\"\"\"\u001b[39;00m\n\u001b[1;32m   3407\u001b[0m \u001b[38;5;28;01mimport\u001b[39;00m \u001b[38;5;21;01mplotly\u001b[39;00m\u001b[38;5;21;01m.\u001b[39;00m\u001b[38;5;21;01mio\u001b[39;00m \u001b[38;5;28;01mas\u001b[39;00m \u001b[38;5;21;01mpio\u001b[39;00m\n\u001b[0;32m-> 3409\u001b[0m \u001b[38;5;28;01mreturn\u001b[39;00m \u001b[43mpio\u001b[49m\u001b[38;5;241;43m.\u001b[39;49m\u001b[43mshow\u001b[49m\u001b[43m(\u001b[49m\u001b[38;5;28;43mself\u001b[39;49m\u001b[43m,\u001b[49m\u001b[43m \u001b[49m\u001b[38;5;241;43m*\u001b[39;49m\u001b[43margs\u001b[49m\u001b[43m,\u001b[49m\u001b[43m \u001b[49m\u001b[38;5;241;43m*\u001b[39;49m\u001b[38;5;241;43m*\u001b[39;49m\u001b[43mkwargs\u001b[49m\u001b[43m)\u001b[49m\n",
            "File \u001b[0;32m~/Documentos/dataviz-mobilidade-urbana-grandeSP/venv/lib/python3.9/site-packages/plotly/io/_renderers.py:396\u001b[0m, in \u001b[0;36mshow\u001b[0;34m(fig, renderer, validate, **kwargs)\u001b[0m\n\u001b[1;32m    391\u001b[0m         \u001b[38;5;28;01mraise\u001b[39;00m \u001b[38;5;167;01mValueError\u001b[39;00m(\n\u001b[1;32m    392\u001b[0m             \u001b[38;5;124m\"\u001b[39m\u001b[38;5;124mMime type rendering requires ipython but it is not installed\u001b[39m\u001b[38;5;124m\"\u001b[39m\n\u001b[1;32m    393\u001b[0m         )\n\u001b[1;32m    395\u001b[0m     \u001b[38;5;28;01mif\u001b[39;00m \u001b[38;5;129;01mnot\u001b[39;00m nbformat \u001b[38;5;129;01mor\u001b[39;00m Version(nbformat\u001b[38;5;241m.\u001b[39m__version__) \u001b[38;5;241m<\u001b[39m Version(\u001b[38;5;124m\"\u001b[39m\u001b[38;5;124m4.2.0\u001b[39m\u001b[38;5;124m\"\u001b[39m):\n\u001b[0;32m--> 396\u001b[0m         \u001b[38;5;28;01mraise\u001b[39;00m \u001b[38;5;167;01mValueError\u001b[39;00m(\n\u001b[1;32m    397\u001b[0m             \u001b[38;5;124m\"\u001b[39m\u001b[38;5;124mMime type rendering requires nbformat>=4.2.0 but it is not installed\u001b[39m\u001b[38;5;124m\"\u001b[39m\n\u001b[1;32m    398\u001b[0m         )\n\u001b[1;32m    400\u001b[0m     ipython_display\u001b[38;5;241m.\u001b[39mdisplay(bundle, raw\u001b[38;5;241m=\u001b[39m\u001b[38;5;28;01mTrue\u001b[39;00m)\n\u001b[1;32m    402\u001b[0m \u001b[38;5;66;03m# external renderers\u001b[39;00m\n",
            "\u001b[0;31mValueError\u001b[0m: Mime type rendering requires nbformat>=4.2.0 but it is not installed"
          ]
        }
      ],
      "source": [
        "fig_tree = px.treemap(data_frame=df,\n",
        "                      path=['MODOPRIN', 'CRITERIOBR'],\n",
        "                      values='FE_VIA')\n",
        "\n",
        "fig_tree.show()"
      ]
    },
    {
      "cell_type": "code",
      "execution_count": 29,
      "id": "nta5fGYSXjy4",
      "metadata": {
        "colab": {
          "base_uri": "https://localhost:8080/"
        },
        "id": "nta5fGYSXjy4",
        "outputId": "f6c44a6a-7173-47bd-9137-896daecfd5c1"
      },
      "outputs": [
        {
          "name": "stdout",
          "output_type": "stream",
          "text": [
            "Variable       Type         Data/Info\n",
            "-------------------------------------\n",
            "df             DataFrame           MODOPRIN     FE_VI<...>[183092 rows x 3 columns]\n",
            "fig_sunburst   Figure       Figure({\\n    'data': [{'<...>}, 'template': '...'}\\n})\n",
            "fig_tree       Figure       Figure({\\n    'data': [{'<...>}, 'template': '...'}\\n})\n",
            "np             module       <module 'numpy' from '/ho<...>kages/numpy/__init__.py'>\n",
            "pd             module       <module 'pandas' from '/h<...>ages/pandas/__init__.py'>\n",
            "pio            module       <module 'plotly.io' from <...>s/plotly/io/__init__.py'>\n",
            "plotly         module       <module 'plotly' from '/h<...>ages/plotly/__init__.py'>\n",
            "px             module       <module 'plotly.express' <...>tly/express/__init__.py'>\n"
          ]
        }
      ],
      "source": [
        "%whos"
      ]
    },
    {
      "cell_type": "code",
      "execution_count": 16,
      "id": "mJcIk7TeYmyx",
      "metadata": {
        "id": "mJcIk7TeYmyx"
      },
      "outputs": [],
      "source": []
    },
    {
      "cell_type": "code",
      "execution_count": null,
      "id": "03meFWPKYpAG",
      "metadata": {
        "id": "03meFWPKYpAG"
      },
      "outputs": [],
      "source": []
    },
    {
      "cell_type": "code",
      "execution_count": null,
      "id": "0CzDE2SyYoyd",
      "metadata": {
        "id": "0CzDE2SyYoyd"
      },
      "outputs": [],
      "source": []
    }
  ],
  "metadata": {
    "colab": {
      "provenance": []
    },
    "kernelspec": {
      "display_name": "Python 3 (ipykernel)",
      "language": "python",
      "name": "python3"
    },
    "language_info": {
      "codemirror_mode": {
        "name": "ipython",
        "version": 3
      },
      "file_extension": ".py",
      "mimetype": "text/x-python",
      "name": "python",
      "nbconvert_exporter": "python",
      "pygments_lexer": "ipython3",
      "version": "3.9.13"
    }
  },
  "nbformat": 4,
  "nbformat_minor": 5
}
